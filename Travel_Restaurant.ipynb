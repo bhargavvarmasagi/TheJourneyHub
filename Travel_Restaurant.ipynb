{
  "cells": [
    {
      "cell_type": "markdown",
      "metadata": {
        "id": "ji09xLvKqBBd"
      },
      "source": [
        "<p> ################################################################## </p>\n",
        "<p>#&nbsp;&nbsp;&nbsp;&nbsp;&nbsp;&nbsp;&nbsp;&nbsp;&nbsp;&nbsp;&nbsp;&nbsp;&nbsp;&nbsp;&nbsp;&nbsp;&nbsp;&nbsp;&nbsp;&nbsp;&nbsp;&nbsp;&nbsp;&nbsp;&nbsp;&nbsp;&nbsp;&nbsp;&nbsp;&nbsp;&nbsp;&nbsp;&nbsp;&nbsp;&nbsp;&nbsp;&nbsp;&nbsp;&nbsp;&nbsp;&nbsp;&nbsp;&nbsp;&nbsp;&nbsp;&nbsp;&nbsp;&nbsp;&nbsp;&nbsp;&nbsp;&nbsp;&nbsp;&nbsp;&nbsp;&nbsp;&nbsp;&nbsp;&nbsp;&nbsp;&nbsp;&nbsp;&nbsp;&nbsp;&nbsp;&nbsp;&nbsp;&nbsp;&nbsp;&nbsp;&nbsp;&nbsp;&nbsp;&nbsp;&nbsp;&nbsp;&nbsp;&nbsp;&nbsp;&nbsp;&nbsp;&nbsp;&nbsp;&nbsp;&nbsp;&nbsp;&nbsp;&nbsp;&nbsp;&nbsp;&nbsp;&nbsp;&nbsp;&nbsp;&nbsp;&nbsp;&nbsp;&nbsp;&nbsp;&nbsp;&nbsp;&nbsp;&nbsp;&nbsp;&nbsp;&nbsp;&nbsp;&nbsp;&nbsp;&nbsp;&nbsp;&nbsp;&nbsp;&nbsp;&nbsp;&nbsp;&nbsp;&nbsp;&nbsp;&nbsp;&nbsp;&nbsp;&nbsp;&nbsp;&nbsp;&nbsp;&nbsp;&nbsp;&nbsp;&nbsp;&nbsp;&nbsp;&nbsp;&nbsp;&nbsp;&nbsp;&nbsp;&nbsp;&nbsp;&nbsp;&nbsp;&nbsp;&nbsp;&nbsp;&nbsp;&nbsp;&nbsp;&nbsp;&nbsp;&nbsp;&nbsp;&nbsp;&nbsp;&nbsp;&nbsp;&nbsp;&nbsp;&nbsp;&nbsp;#\n",
        "<p> # This source code is adopted from Tomaz and modified for NWMSU chatbot application  &nbsp; #</p>\n",
        "<p>#&nbsp;&nbsp;&nbsp;&nbsp;&nbsp;&nbsp;&nbsp;&nbsp;&nbsp;&nbsp;&nbsp;&nbsp;&nbsp;&nbsp;&nbsp;&nbsp;&nbsp;&nbsp;&nbsp;&nbsp;&nbsp;&nbsp;&nbsp;&nbsp;&nbsp;&nbsp;&nbsp;&nbsp;&nbsp;&nbsp;&nbsp;&nbsp;&nbsp;&nbsp;&nbsp;&nbsp;&nbsp;&nbsp;&nbsp;&nbsp;&nbsp;&nbsp;&nbsp;&nbsp;&nbsp;&nbsp;&nbsp;&nbsp;&nbsp;&nbsp;&nbsp;&nbsp;&nbsp;&nbsp;&nbsp;&nbsp;&nbsp;&nbsp;&nbsp;&nbsp;&nbsp;&nbsp;&nbsp;&nbsp;&nbsp;&nbsp;&nbsp;&nbsp;&nbsp;&nbsp;&nbsp;&nbsp;&nbsp;&nbsp;&nbsp;&nbsp;&nbsp;&nbsp;&nbsp;&nbsp;&nbsp;&nbsp;&nbsp;&nbsp;&nbsp;&nbsp;&nbsp;&nbsp;&nbsp;&nbsp;&nbsp;&nbsp;&nbsp;&nbsp;&nbsp;&nbsp;&nbsp;&nbsp;&nbsp;&nbsp;&nbsp;&nbsp;&nbsp;&nbsp;&nbsp;&nbsp;&nbsp;&nbsp;&nbsp;&nbsp;&nbsp;&nbsp;&nbsp;&nbsp;&nbsp;&nbsp;&nbsp;&nbsp;&nbsp;&nbsp;&nbsp;&nbsp;&nbsp;&nbsp;&nbsp;&nbsp;&nbsp;&nbsp;&nbsp;&nbsp;&nbsp;&nbsp;&nbsp;&nbsp;&nbsp;&nbsp;&nbsp;&nbsp;&nbsp;&nbsp;&nbsp;&nbsp;&nbsp;&nbsp;&nbsp;&nbsp;&nbsp;&nbsp;&nbsp;&nbsp;&nbsp;&nbsp;&nbsp;&nbsp;&nbsp;&nbsp;&nbsp;&nbsp;&nbsp;#\n",
        "<p></p>\n",
        "<p></p>\n",
        "<p> ################################################################## </p>\n",
        "\n"
      ]
    },
    {
      "cell_type": "markdown",
      "metadata": {
        "id": "zqgaHIIWAv0E"
      },
      "source": []
    },
    {
      "cell_type": "code",
      "execution_count": 225,
      "metadata": {
        "colab": {
          "base_uri": "https://localhost:8080/"
        },
        "id": "y8W6QNR3xzEO",
        "outputId": "a793b1c3-eb36-4d0f-81b1-e790fd1244d5"
      },
      "outputs": [
        {
          "name": "stdout",
          "output_type": "stream",
          "text": [
            "Drive already mounted at /content/gdrive; to attempt to forcibly remount, call drive.mount(\"/content/gdrive\", force_remount=True).\n",
            "[Errno 2] No such file or directory: 'gdrive/My Drive'\n",
            "/content/gdrive/My Drive\n"
          ]
        }
      ],
      "source": [
        "from google.colab import drive\n",
        "\n",
        "drive.mount('/content/gdrive')\n",
        "\n",
        "%cd gdrive/My Drive"
      ]
    },
    {
      "cell_type": "markdown",
      "metadata": {
        "id": "_5jQBSpUA1YJ"
      },
      "source": [
        "Requirements:\n",
        "\n",
        "1. **LangChain**: A framework for developing applications powered by language models.\n",
        "2. **LangChain-Community**: A collaborative space for sharing resources, tools, and discussions related to LangChain.\n",
        "3. **LangChain-OpenAI**: A LangChain extension providing integration with OpenAI's language models.\n",
        "4. **LangChain-Experimental**: A repository for experimental features and prototypes within the LangChain ecosystem.\n",
        "5. **Neo4j**: A graph database management system designed for handling and querying connected data.\n",
        "6. **tiktoken**: A library for tokenizing text, commonly used with language models to preprocess input and output.\n",
        "7. **yfiles_jupyter_graphs**: A library for creating and visualizing graphs and network diagrams in Jupyter notebooks.\n",
        "8. **Streamlit**: An open-source framework for building interactive, web-based applications using Python.\n",
        "9. **Localtunnel**: A tool that allows you to expose your local web server to the internet via a secure tunnel.\n",
        "10. **CTransformers** : A python wrapper for transfomer based models with essential configurations."
      ]
    },
    {
      "cell_type": "code",
      "execution_count": 226,
      "metadata": {
        "id": "_e8mFtjUpsf-"
      },
      "outputs": [],
      "source": [
        "%pip install --upgrade --quiet  langchain langchain-community langchain-openai langchain-experimental neo4j tiktoken yfiles_jupyter_graphs streamlit"
      ]
    },
    {
      "cell_type": "code",
      "execution_count": 227,
      "metadata": {
        "colab": {
          "base_uri": "https://localhost:8080/"
        },
        "id": "uFTCrVRKSfls",
        "outputId": "a9bf7844-c35b-4293-e353-fe76ab6fc93f"
      },
      "outputs": [
        {
          "name": "stdout",
          "output_type": "stream",
          "text": [
            "Requirement already satisfied: ctransformers in /usr/local/lib/python3.11/dist-packages (0.2.27)\n",
            "Requirement already satisfied: huggingface-hub in /usr/local/lib/python3.11/dist-packages (from ctransformers) (0.30.2)\n",
            "Requirement already satisfied: py-cpuinfo<10.0.0,>=9.0.0 in /usr/local/lib/python3.11/dist-packages (from ctransformers) (9.0.0)\n",
            "Requirement already satisfied: filelock in /usr/local/lib/python3.11/dist-packages (from huggingface-hub->ctransformers) (3.18.0)\n",
            "Requirement already satisfied: fsspec>=2023.5.0 in /usr/local/lib/python3.11/dist-packages (from huggingface-hub->ctransformers) (2025.3.2)\n",
            "Requirement already satisfied: packaging>=20.9 in /usr/local/lib/python3.11/dist-packages (from huggingface-hub->ctransformers) (24.2)\n",
            "Requirement already satisfied: pyyaml>=5.1 in /usr/local/lib/python3.11/dist-packages (from huggingface-hub->ctransformers) (6.0.2)\n",
            "Requirement already satisfied: requests in /usr/local/lib/python3.11/dist-packages (from huggingface-hub->ctransformers) (2.32.3)\n",
            "Requirement already satisfied: tqdm>=4.42.1 in /usr/local/lib/python3.11/dist-packages (from huggingface-hub->ctransformers) (4.67.1)\n",
            "Requirement already satisfied: typing-extensions>=3.7.4.3 in /usr/local/lib/python3.11/dist-packages (from huggingface-hub->ctransformers) (4.13.2)\n",
            "Requirement already satisfied: charset-normalizer<4,>=2 in /usr/local/lib/python3.11/dist-packages (from requests->huggingface-hub->ctransformers) (3.4.1)\n",
            "Requirement already satisfied: idna<4,>=2.5 in /usr/local/lib/python3.11/dist-packages (from requests->huggingface-hub->ctransformers) (3.10)\n",
            "Requirement already satisfied: urllib3<3,>=1.21.1 in /usr/local/lib/python3.11/dist-packages (from requests->huggingface-hub->ctransformers) (2.4.0)\n",
            "Requirement already satisfied: certifi>=2017.4.17 in /usr/local/lib/python3.11/dist-packages (from requests->huggingface-hub->ctransformers) (2025.1.31)\n"
          ]
        }
      ],
      "source": [
        "pip install ctransformers"
      ]
    },
    {
      "cell_type": "code",
      "execution_count": 228,
      "metadata": {
        "colab": {
          "base_uri": "https://localhost:8080/"
        },
        "id": "wQpoIlvoWU-Y",
        "outputId": "8af97626-0e8d-468c-f176-2b47510fd898"
      },
      "outputs": [
        {
          "name": "stdout",
          "output_type": "stream",
          "text": [
            "Requirement already satisfied: neo4j in /usr/local/lib/python3.11/dist-packages (5.28.1)\n",
            "Requirement already satisfied: pytz in /usr/local/lib/python3.11/dist-packages (from neo4j) (2025.2)\n"
          ]
        }
      ],
      "source": [
        "pip install neo4j"
      ]
    },
    {
      "cell_type": "code",
      "execution_count": 229,
      "metadata": {
        "colab": {
          "base_uri": "https://localhost:8080/"
        },
        "id": "EKRc3oenyXvO",
        "outputId": "bde0d895-cdf5-467c-972a-aa42d6af42e6"
      },
      "outputs": [
        {
          "name": "stdout",
          "output_type": "stream",
          "text": [
            "\u001b[1G\u001b[0K⠙\u001b[1G\u001b[0K⠹\u001b[1G\u001b[0K⠸\u001b[1G\u001b[0K⠼\u001b[1G\u001b[0K⠴\u001b[1G\u001b[0K⠦\u001b[1G\u001b[0K⠧\u001b[1G\u001b[0K⠇\u001b[1G\u001b[0K⠏\u001b[1G\u001b[0K\n",
            "up to date, audited 23 packages in 2s\n",
            "\u001b[1G\u001b[0K⠋\u001b[1G\u001b[0K\n",
            "\u001b[1G\u001b[0K⠋\u001b[1G\u001b[0K3 packages are looking for funding\n",
            "\u001b[1G\u001b[0K⠋\u001b[1G\u001b[0K  run `npm fund` for details\n",
            "\u001b[1G\u001b[0K⠋\u001b[1G\u001b[0K\n",
            "2 \u001b[31m\u001b[1mhigh\u001b[22m\u001b[39m severity vulnerabilities\n",
            "\n",
            "To address all issues (including breaking changes), run:\n",
            "  npm audit fix --force\n",
            "\n",
            "Run `npm audit` for details.\n",
            "\u001b[1G\u001b[0K⠋\u001b[1G\u001b[0K"
          ]
        }
      ],
      "source": [
        "!npm install localtunnel"
      ]
    },
    {
      "cell_type": "markdown",
      "metadata": {
        "id": "LQtND_fzFRNI"
      },
      "source": [
        "The provided code imports several components from different libraries, each serving a specific purpose. The `RunnableBranch`, `RunnableLambda`, `RunnableParallel`, and `RunnablePassthrough` from LangChain Core are utilities for creating complex workflows involving branching logic, function definitions, parallel execution, and straightforward data passing. For crafting prompts, `ChatPromptTemplate` and `PromptTemplate` are used to design structured inputs for language models.\n",
        "\n",
        "The `BaseModel` and `Field` from Pydantic assist in data validation and configuration, while typing utilities like `Tuple`, `List`, and `Optional` are used for type hinting in Python code. The message classes `AIMessage` and `HumanMessage` define interactions between an AI and a user. The `StrOutputParser` is employed for converting outputs into string format.\n",
        "\n",
        "The `os` module provides a way to interact with the operating system, and `Neo4jGraph` facilitates working with Neo4j databases. `TokenTextSplitter` helps in breaking down text into manageable tokens, essential for language processing. `ChatOpenAI` enables communication with OpenAI's chat models, and `LLMGraphTransformer` is used for transforming graph data with language models. For database interaction, `GraphDatabase` connects with Neo4j, and `GraphWidget` allows for the creation and visualization of graphs in Jupyter notebooks.\n",
        "\n",
        "Further, `Neo4jVector` supports storing and retrieving embeddings in Neo4j, while `OpenAIEmbeddings` provides tools for generating embeddings from OpenAI models. The `remove_lucene_chars` function cleans text by removing specific characters, ensuring data is properly formatted for Neo4j. Lastly, `ConfigurableField` allows for configurable data fields within a runnable, aiding in the customization of workflows."
      ]
    },
    {
      "cell_type": "code",
      "execution_count": 230,
      "metadata": {
        "id": "n5jFoh3cqFfH"
      },
      "outputs": [],
      "source": [
        "# %%writefile main.py\n",
        "\n",
        "from langchain_core.runnables import (\n",
        "    RunnableBranch,\n",
        "    RunnableLambda,\n",
        "    RunnableParallel,\n",
        "    RunnablePassthrough,\n",
        ")\n",
        "from langchain_core.prompts import ChatPromptTemplate\n",
        "from langchain_core.prompts.prompt import PromptTemplate\n",
        "from langchain_core.pydantic_v1 import BaseModel, Field\n",
        "from typing import Tuple, List, Optional\n",
        "from langchain_core.messages import AIMessage, HumanMessage\n",
        "from langchain_core.output_parsers import StrOutputParser\n",
        "import os\n",
        "from langchain_community.graphs import Neo4jGraph\n",
        "from langchain.text_splitter import TokenTextSplitter\n",
        "from langchain_openai import ChatOpenAI\n",
        "from langchain_experimental.graph_transformers import LLMGraphTransformer\n",
        "from neo4j import GraphDatabase\n",
        "from yfiles_jupyter_graphs import GraphWidget\n",
        "from langchain_community.vectorstores import Neo4jVector\n",
        "from langchain_openai import OpenAIEmbeddings\n",
        "from langchain_community.vectorstores.neo4j_vector import remove_lucene_chars\n",
        "from langchain_core.runnables import ConfigurableField, RunnableParallel, RunnablePassthrough\n",
        "\n",
        "\n",
        "try:\n",
        "  import google.colab\n",
        "  from google.colab import output\n",
        "  output.enable_custom_widget_manager()\n",
        "except:\n",
        "  pass\n",
        "\n",
        "\n",
        "\n"
      ]
    },
    {
      "cell_type": "markdown",
      "metadata": {
        "id": "-n8hzmiPGDkr"
      },
      "source": [
        "These lines of code set environment variables for accessing the OpenAI API and a Neo4j database:\n",
        "\n",
        "- `os.environ[\"OPENAI_API_KEY\"] = \"sk-....\"` sets the API key for accessing OpenAI's services.\n",
        "- `os.environ[\"NEO4J_URI\"] = \"bolt+s://d......databases.neo4j.io:7687\"` specifies the URI for connecting to the Neo4j database.\n",
        "- `os.environ[\"NEO4J_USERNAME\"] = \"usr\"` sets the username for the Neo4j database connection.\n",
        "- `os.environ[\"NEO4J_PASSWORD\"] = \"pwd\"` sets the password for the Neo4j database connection.\n",
        "\n",
        "These environment variables are crucial for securely storing sensitive information required for connecting to external services."
      ]
    },
    {
      "cell_type": "code",
      "execution_count": null,
      "metadata": {
        "id": "u-x0sDvkzApK"
      },
      "outputs": [],
      "source": [
        "os.environ[\"OPENAI_API_KEY\"] = \"\"#replace your OPEN_API key\n",
        "os.environ[\"NEO4J_URI\"] = \"\"#NEO4J URL\n",
        "os.environ[\"NEO4J_USERNAME\"] = \"neo4j\" #NEO4J USERNAME\n",
        "os.environ[\"NEO4J_PASSWORD\"] = \"\"#NEO4J PASSWORD\n"
      ]
    },
    {
      "cell_type": "markdown",
      "metadata": {
        "id": "W3SvhzJ4GIM2"
      },
      "source": [
        "This instance, stored in the variable graph, can be used to interact with the Neo4j database. The Neo4jGraph class provides methods and functionalities to execute queries, retrieve data, and manipulate the graph database, facilitating seamless integration and operations within the LangChain framework."
      ]
    },
    {
      "cell_type": "code",
      "execution_count": 232,
      "metadata": {
        "id": "XwzkR_GOzArj"
      },
      "outputs": [],
      "source": [
        "graph = Neo4jGraph()"
      ]
    },
    {
      "cell_type": "markdown",
      "metadata": {
        "id": "Iw1cepLUGWEM"
      },
      "source": [
        "This code snippet loads web pages from a list of URLs using the `WebBaseLoader` class from the `langchain_community.document_loaders` module:\n",
        "\n",
        "\n",
        "- **WebBaseLoader**: This class is used for loading web pages from URLs provided in a list. It likely uses web scraping techniques to retrieve the content from each URL.\n",
        "- **loader.requests_kwargs**: This line sets a keyword argument for the HTTP request made by the loader. `{'verify': False}` disables SSL certificate verification, which can be useful when dealing with self-signed certificates or testing environments.\n",
        "- **data = loader.load()**: This line executes the loading process, fetching the HTML content from the specified URLs and storing it in the `data` variable.\n",
        "\n",
        "This approach is helpful for gathering content from multiple web pages for further processing, such as natural language processing or content analysis, within the LangChain framework."
      ]
    },
    {
      "cell_type": "code",
      "execution_count": 233,
      "metadata": {
        "id": "nfpW5QoAudoX"
      },
      "outputs": [],
      "source": [
        "from langchain_community.document_loaders import WebBaseLoader\n",
        "loader = WebBaseLoader([\n",
        "\n",
        "                        \"https://www.ubereats.com/category/kansas-city-mo/new-mexican?srsltid=AfmBOorG3ikGv_VZxj0xNg08GjYCxfvV35hUa7DosV4TdSPoOzs3kc9q\",\n",
        "                        \"https://www.ubereats.com/category/chicago-il/indian?srsltid=AfmBOorg0R9TGDTOxtIkTAmKYOSPDr_IoDbJMhQpDBIvale5Oyv2OEvQ\",\n",
        "                        \"https://www.ubereats.com/category/dallas-tx/japanese?srsltid=AfmBOoo34vou7qUlEwcYS_YXY543FwkcJUu5MJJsS1O3QFFkmzkVSvK-\",\n",
        "                        \"https://www.ubereats.com/category/new-york-city/thai?srsltid=AfmBOoo_1T78zpVr_ONnXgzXpP0r5Po29sYcK3sdxHNgDa9p9Jp6qwgS\",\n",
        "                        \"https://www.ubereats.com/category/kansas-city-mo/pizza?srsltid=AfmBOorj0_iBN8KAAO2_ATU6bGEB28lHbbQQfQjUgSU2if3nJfqF4pds\",\n",
        "                        \"https://www.ubereats.com/category/los-angeles-ca/indian?srsltid=AfmBOopM7iTWVM2pek7Ipcn7er4GGvJByE2QZpDLgNBugvxVAN8DxuHy\",\n",
        "\n",
        "                        ])\n",
        "loader.requests_kwargs = {'verify':False}\n",
        "data = loader.load()\n",
        "# print(data)"
      ]
    },
    {
      "cell_type": "code",
      "execution_count": 235,
      "metadata": {
        "colab": {
          "base_uri": "https://localhost:8080/"
        },
        "id": "T4Fcg-eBv2AB",
        "outputId": "a7f38631-f374-48ed-8e84-84aa8bb913af"
      },
      "outputs": [
        {
          "data": {
            "text/plain": [
              "7099"
            ]
          },
          "execution_count": 235,
          "metadata": {},
          "output_type": "execute_result"
        }
      ],
      "source": [
        "len(data[0].page_content)\n",
        "len(data[1].page_content)\n",
        "len(data[2].page_content)\n",
        "len(data[3].page_content)\n",
        "len(data[4].page_content)\n",
        "len(data[5].page_content)"
      ]
    },
    {
      "cell_type": "code",
      "execution_count": 236,
      "metadata": {
        "colab": {
          "base_uri": "https://localhost:8080/",
          "height": 36
        },
        "id": "fOWYO20aLVBL",
        "outputId": "c9e6d6cf-8bbf-4262-c0b4-21c21f13baee"
      },
      "outputs": [
        {
          "data": {
            "application/vnd.google.colaboratory.intrinsic+json": {
              "type": "string"
            },
            "text/plain": [
              "'THE 10 BEST INDIAN FOOD DELIVERY in Los Angeles 2025| Order Indian Food Near Me | Uber Eats\\n\\n\\n\\n\\n\\nSig'"
            ]
          },
          "execution_count": 236,
          "metadata": {},
          "output_type": "execute_result"
        }
      ],
      "source": [
        "data[0].page_content[0:100]\n",
        "data[1].page_content[0:100]\n",
        "data[2].page_content[0:100]\n",
        "data[3].page_content[0:100]\n",
        "data[4].page_content[0:100]\n",
        "data[5].page_content[0:100]\n",
        "\n"
      ]
    },
    {
      "cell_type": "markdown",
      "metadata": {
        "id": "LNSNunP2Gd2c"
      },
      "source": [
        "\n",
        "\n",
        "- **TokenTextSplitter**: This class is used to split text into chunks, typically to prepare it for processing by language models or other natural language processing tasks.\n",
        "- **text_splitter = TokenTextSplitter(chunk_size=512, chunk_overlap=24)**: Initializes an instance of `TokenTextSplitter` with a chunk size of 512 tokens and an overlap of 24 tokens between consecutive chunks.\n",
        "- **documents = text_splitter.split_documents(data)**: Splits the input `data` (presumably a collection of text documents) into chunks of the specified size and overlap, storing the resulting chunks in the `documents` variable.\n",
        "\n",
        "This approach is useful for breaking down large text documents or datasets into manageable pieces that can be processed more efficiently by downstream tasks or models."
      ]
    },
    {
      "cell_type": "code",
      "execution_count": 237,
      "metadata": {
        "id": "WSBwTblIxmgO"
      },
      "outputs": [],
      "source": [
        "text_splitter = TokenTextSplitter(chunk_size=512, chunk_overlap=24)\n",
        "documents = text_splitter.split_documents(data)"
      ]
    },
    {
      "cell_type": "code",
      "execution_count": 240,
      "metadata": {
        "colab": {
          "base_uri": "https://localhost:8080/"
        },
        "id": "dI5DbzHLezVX",
        "outputId": "28c81051-5b91-4331-df84-3baeb3ffc5d1"
      },
      "outputs": [
        {
          "name": "stdout",
          "output_type": "stream",
          "text": [
            "page_content='THE 10 BEST NEW MEXICAN FOOD DELIVERY in Kansas City 2025| Order New Mexican Food Near Me | Uber Eats\n",
            "\n",
            "\n",
            "\n",
            "\n",
            "\n",
            "Sign inTop categoriesTop dishesPopular citiesPopular areasTop categoriesRaw Food Delivery in Kansas CityCanadian Food Delivery in Kansas CityBreakfast And Brunch Delivery in Kansas CityArabian Food Delivery in Kansas CityCongee Delivery in Kansas CityAsian Food Delivery in Kansas CityAmerican Food Delivery in Kansas CityBar Food Delivery in Kansas CityTraditional American Food Delivery in Kansas CityAllergy Friendly Food Delivery in Kansas CityNoodles Delivery in Kansas CityDominican Food Delivery in Kansas CityFrozen Food Delivery in Kansas CityBrazilian Food Delivery in Kansas CityCustard Delivery in Kansas CityAustralian Food Delivery in Kansas CityCharcuterie Delivery in Kansas CityGerman Food Delivery in Kansas CityHalal Delivery in Kansas CityBread Dishes Delivery in Kansas CityView allTop dishesFish burger Delivery in Kansas CitySoup Dumplings Delivery in Kansas CityRoast Chicken Delivery in Kansas CityArancini Delivery in Kansas CityPupusas Delivery in Kansas CityArroz con leche Delivery in Kansas CityApple crumble Delivery in Kansas CityBaby Back Ribs Delivery in Kansas CityHalloumi Delivery in Kansas CityAmerican pizza Delivery in Kansas CityCrepe Delivery in Kansas CityCarne asada Delivery in Kansas CityChicken burger Delivery in Kansas CityTiramisu Delivery in Kansas CityCalzones Delivery in Kansas CityAvocado salad Delivery in Kansas CityBrownies Delivery in Kansas CityChicken burrito Delivery in Kansas CityChicken karaage Delivery in Kansas CityBanana split Delivery in Kansas CityView allPopular citiesNorthmoor food deliveryRiverside food deliveryHouston Lake food deliveryLake Waukomis food deliveryRandolph food deliveryPlatte Woods food deliveryPleasant Valley food deliveryWeatherby Lake food deliverySugar Creek food deliveryLiberty food deliveryFerrelview food deliveryMission Hills food deliveryParkville food deliveryPrairie Village food deliverySmithville food deliveryIndependence food deliveryRaytown food deliveryMissouri City food deliveryPlatte City food deliveryKearney food deliveryPopular areasVale food deliveryMinneville food deliveryBarry food deliveryOakwood food deliveryPendleton Heights food deliveryRed Bridge food deliveryCrossgates food deliveryKnobtown food deliveryFairlane food deliveryGashland Heights food deliveryRiver Market food deliveryblue-ridge-farms-kansas-city-mo-us food deliverySanta Fe Hills food deliveryQuality Hill food delivery' metadata={'source': 'https://www.ubereats.com/category/kansas-city-mo/new-mexican?srsltid=AfmBOorG3ikGv_VZxj0xNg08GjYCxfvV35hUa7DosV4TdSPoOzs3kc9q', 'title': 'THE 10 BEST NEW MEXICAN FOOD DELIVERY in Kansas City 2025| Order New Mexican Food Near Me | Uber Eats', 'description': 'Craving New Mexican Food? Get it fast with your Uber account. Order online from top New Mexican Food restaurants in Kansas City.', 'language': 'en-US'}\n",
            "page_content='ridge-farms-kansas-city-mo-us food deliverySanta Fe Hills food deliveryQuality Hill food deliveryCalico Farms food deliveryDowntown food deliverySunset Hills food deliveryWillow Creek food deliveryMarlborough food deliveryRobandee food deliveryCreate a business accountAdd your restaurantSign up to deliverGet a rideArrow launchSkip to contentThree linesLog inSign upNew Mexican Delivery in Kansas CityEnter delivery addressFind FoodUnited StatesMissouriKansas CityNew Mexican FoodNew Mexican Food Delivery Near MeNew Mexican Food Delivery in Kansas CityEnjoy New Mexican Food delivery and takeaway with Uber Eats near you in Kansas City. Browse Kansas City restaurants serving New Mexican Food nearby, place your order and enjoy! Your order will be delivered in minutes and you can track its ETA while you wait.Find more restaurants nearby in Kansas City.Taco Bell (4101 Broadway Blvd)Taco Bell (4101 Broadway Blvd)15 min  •  $ 4.3Taco Bell (3948 Rainbow Blvd)Taco Bell (3948 Rainbow Blvd)15 min  •  $ 4.5Taco Bell (8215 Wornall Rd)Taco Bell (8215 Wornall Rd)30 min  •  $ 4.2Taco Bell (1420 Prospect Ave)Taco Bell (1420 Prospect Ave)10 min  •  $ 4.2Taco Bell (123 E Linwood)Taco Bell (123 E Linwood)10 min  •  $ 4.4Taco Bell (5004 Roe Blvd.)Taco Bell (5004 Roe Blvd.)20 min  •  $ 4.3Taco Bell (6350 Johnson Dr)Taco Bell (6350 Johnson Dr)20 min  •  $ 4.4Taco Bell (1310 Emmanuel Cleaver II Blvd.)Taco Bell (1310 Emmanuel Cleaver II Blvd.)15 min  •  $ 4.2Taco Bell (6321 N Oak Trafficway)Taco Bell (6321 N Oak Trafficway)30 min  •  $ 4.2Taco Bell (2825 NE Vivion Road)Taco Bell (2825 NE Vivion Road)20 min  •  $ 4.3Panchos Mexican Food (Independence)Panchos Mexican Food (Independence)30 min  •' metadata={'source': 'https://www.ubereats.com/category/kansas-city-mo/new-mexican?srsltid=AfmBOorG3ikGv_VZxj0xNg08GjYCxfvV35hUa7DosV4TdSPoOzs3kc9q', 'title': 'THE 10 BEST NEW MEXICAN FOOD DELIVERY in Kansas City 2025| Order New Mexican Food Near Me | Uber Eats', 'description': 'Craving New Mexican Food? Get it fast with your Uber account. Order online from top New Mexican Food restaurants in Kansas City.', 'language': 'en-US'}\n",
            "page_content='3Panchos Mexican Food (Independence)Panchos Mexican Food (Independence)30 min  •  $$ 3.9Taco Bell (12014 Shawnee Mission Pkwy.)Taco Bell (12014 Shawnee Mission Pkwy.)30 min  •  $ 4.1Taco Bell (5930 Ikea Way)Taco Bell (5930 Ikea Way)20 min  •  $ 4.6Taco Bell (7337 State Ave)Taco Bell (7337 State Ave)20 min  •  $ 4.0Taco Bell (10107 W. 75th Street)Taco Bell (10107 W. 75th Street)30 min  •  $ 4.5Taco Bell (1040 Armour Rd)Taco Bell (1040 Armour Rd)15 min  •  $ 4.3Taco Bell (9021 E. Highway 350)Taco Bell (9021 E. Highway 350)30 min  •  $ 4.1Taco Bell (3651 State Avenue)Taco Bell (3651 State Avenue)25 min  •  $ 4.1Taco Bell (7201 NE Parvin Road)Taco Bell (7201 NE Parvin Road)20 min  •  $ 4.1Taco Bell (1300-A S. Noland Rd)Taco Bell (1300-A S. Noland Rd)25 min  •  $ 4.3Taco Bell (11020 E 23rd St S)Taco Bell (11020 E 23rd St S)30 min  •  $ 4.4Previous12345NextFrequently asked questionsIs New Mexican Food delivery available near me in Kansas City?New Mexican Food delivery is available with Uber Eats in Kansas City. Since your options for New Mexican Food delivery may vary depending on your location in Kansas City, be sure to enter your address to see what’s available near you.Where can I find the best New Mexican Food delivery in Kansas City?The 5-star rating system exists to help you find the best of the best in Kansas City. As you compare your options, look for the New Mexican Food delivery spots that have earned a high star rating from users.Where can I find cheap New Mexican Food delivery in Kansas City?A single' metadata={'source': 'https://www.ubereats.com/category/kansas-city-mo/new-mexican?srsltid=AfmBOorG3ikGv_VZxj0xNg08GjYCxfvV35hUa7DosV4TdSPoOzs3kc9q', 'title': 'THE 10 BEST NEW MEXICAN FOOD DELIVERY in Kansas City 2025| Order New Mexican Food Near Me | Uber Eats', 'description': 'Craving New Mexican Food? Get it fast with your Uber account. Order online from top New Mexican Food restaurants in Kansas City.', 'language': 'en-US'}\n",
            "page_content=' have earned a high star rating from users.Where can I find cheap New Mexican Food delivery in Kansas City?A single “$” is used to mark the most affordable spots for New Mexican Food delivery in Kansas City.What’s open now for New Mexican Food delivery near me in Kansas City?At any given time, we’ll show you on this page the New Mexican Food spots that are currently available for delivery. If you’re interested in a particular place, take a look at their designated page to view their hours of operation.How can I get free New Mexican Food delivery in Kansas City?Become an Uber One member to enjoy $0 Delivery Fee on Uber Eats, whether you’re ordering New Mexican Food or something else.How much should I tip for New Mexican Food delivery?How much you tip the delivery person for your New Mexican Food order is up to you. Keep in mind that tips are always appreciated and that 100% of the tip you leave will go to them.How do I pay for my New Mexican Food delivery order on Uber Eats?Payment for your New Mexican Food order is handled through your Uber Eats account; there’s no exchange of cash required for orders in Kansas City.Explore Popular CategoriesView allFast Food DeliveryBreakfast And Brunch DeliveryAmerican Food DeliveryMexican Food DeliveryChinese Food DeliveryJapanese Food DeliveryItalian Food DeliveryHealthy Food DeliveryAsian Food DeliveryIndian Food DeliveryThai Food DeliveryTaiwanese Food DeliveryAlcohol DeliveryHalal DeliveryBakery DeliveryComfort Food DeliveryMiddle Eastern Food DeliveryPizza DeliveryTurkish Food DeliveryKorean Food DeliveryDeli DeliveryBrazilian Food DeliveryGerman Food DeliveryDesserts DeliveryGet HelpBuy gift cardsAdd your restaurantSign up to deliverCreate a business accountPromotionsRestaurants near meView all citiesView all countriesPickup near meAbout Uber EatsShop groceriesEnglishFacebookTwitterInstagramPrivacy PolicyTermsPricingDo not sell or share my personal information© 2025 Uber Technologies Inc.\n",
            "\n",
            "\n",
            "\n",
            "\n",
            "\n",
            "Javascript disabled\n",
            "Javascript is needed to run Uber Eats. You can try enabling it or visiting the website with a browser that supports Javascript.\n",
            "\n",
            "\n",
            "\n",
            "\n",
            "\n",
            "\n",
            "\n",
            "\n",
            "\n",
            "\n",
            "\n",
            "\n",
            "\n",
            "\n",
            "\n",
            "' metadata={'source': 'https://www.ubereats.com/category/kansas-city-mo/new-mexican?srsltid=AfmBOorG3ikGv_VZxj0xNg08GjYCxfvV35hUa7DosV4TdSPoOzs3kc9q', 'title': 'THE 10 BEST NEW MEXICAN FOOD DELIVERY in Kansas City 2025| Order New Mexican Food Near Me | Uber Eats', 'description': 'Craving New Mexican Food? Get it fast with your Uber account. Order online from top New Mexican Food restaurants in Kansas City.', 'language': 'en-US'}\n",
            "page_content='THE 10 BEST INDIAN FOOD DELIVERY in Chicago 2025| Order Indian Food Near Me | Uber Eats\n",
            "\n",
            "\n",
            "\n",
            "\n",
            "\n",
            "Sign inTop categoriesTop dishesPopular citiesPopular areasTop categoriesPho Delivery in ChicagoBurgers Delivery in ChicagoBistro Delivery in ChicagoAppetizers Delivery in ChicagoChinese Food Delivery in ChicagoArabian Food Delivery in ChicagoAllergy Friendly Food Delivery in ChicagoBacon Delivery in ChicagoSouth Asian Food Delivery in ChicagoAlcohol Delivery in ChicagoMilkshake Delivery in ChicagoDesserts Delivery in ChicagoEuropean Food Delivery in ChicagoBento Delivery in ChicagoCuban Food Delivery in ChicagoAsian Food Delivery in ChicagoCandy Delivery in ChicagoFamily Meals Delivery in ChicagoGeorgian Food Delivery in ChicagoBiryani Delivery in ChicagoView allTop dishesFettuccine alfredo Delivery in ChicagoSmoked salmon Delivery in ChicagoRoast beef Delivery in ChicagoArancini Delivery in ChicagoPudding Delivery in ChicagoArroz con leche Delivery in ChicagoApple crumble Delivery in ChicagoBaby Back Ribs Delivery in ChicagoGyro Delivery in ChicagoAmerican pizza Delivery in ChicagoCreme Brulee Delivery in ChicagoCarbonara Delivery in ChicagoChicken bowl Delivery in ChicagoTaquitos Delivery in ChicagoCalzones Delivery in ChicagoAvocado salad Delivery in ChicagoBrownies Delivery in ChicagoChicken burger Delivery in ChicagoChicken gyro Delivery in ChicagoBanana split Delivery in ChicagoView allPopular citiesNorridge food deliveryHarwood Heights food deliveryElmwood Park food deliveryOak Park food deliveryRiver Forest food deliveryLincolnwood food deliveryRiver Grove food deliveryForest Park food deliveryCicero food deliverySkokie food deliveryBerwyn food deliveryMaywood food deliveryMelrose Park food deliveryNorth Riverside food deliveryMorton Grove food deliveryPark Ridge food deliverySchiller Park food deliveryNiles food deliveryRiverside food deliveryFranklin Park food deliveryPopular areasRoseland food deliveryGold Coast food deliveryPullman food deliveryMarynook food deliveryRosemoor food deliverySouth Shore food deliveryLongwood Manor food deliveryThe Island food deliveryNorth Englewood food deliveryLakeview East food deliveryPulaski food deliveryRogers Park food deliveryWrightwood food deliveryWildwood food deliveryWest Town food deliveryBeverly Hills food deliveryPark West food deliveryGarfield Ridge food deliveryCornell food deliveryEast Chatham food deliveryCreate a business accountAdd your restaurantSign up to deliverGet a rideArrow launchSkip to contentThree linesLog inSign upIndian Delivery in ChicagoEnter delivery addressFind FoodUnited States' metadata={'source': 'https://www.ubereats.com/category/chicago-il/indian?srsltid=AfmBOorg0R9TGDTOxtIkTAmKYOSPDr_IoDbJMhQpDBIvale5Oyv2OEvQ', 'title': 'THE 10 BEST INDIAN FOOD DELIVERY in Chicago 2025| Order Indian Food Near Me | Uber Eats', 'description': 'Craving Indian Food? Get it fast with your Uber account. Order online from top Indian Food restaurants in Chicago.', 'language': 'en-US'}\n",
            "page_content=' rideArrow launchSkip to contentThree linesLog inSign upIndian Delivery in ChicagoEnter delivery addressFind FoodUnited StatesIllinoisChicagoIndian FoodIndian Food Delivery Near MeIndian Food Delivery in ChicagoEnjoy Indian Food delivery and takeaway with Uber Eats near you in Chicago. Browse Chicago restaurants serving Indian Food nearby, place your order and enjoy! Your order will be delivered in minutes and you can track its ETA while you wait.Find more restaurants nearby in Chicago.Al Halal ZaiqaAl Halal Zaiqa20 min 3.9Adda Indian CuisineAdda Indian Cuisine20 min 4.3Kababish BBQ & GrillKababish BBQ & Grill 20 min 4.5New ZaikaNew Zaika20 min 4.3Paradise BiryaniParadise Biryani20 min 2.4Tabaq RestaurantTabaq Restaurant20 min  •  $ 3.7Combo KingsCombo Kings30 min  •  $ 3.8Biryani Spice HubBiryani Spice Hub20 min 1.8Indian ZaikaIndian Zaika20 min NewHalal Pizza & WingsHalal Pizza & Wings25 min 4.1Burrito BolsaBurrito Bolsa50 min 4.0Casa Lucio (W Grand Ave) (5959 West Grand Avenue)Casa Lucio (W Grand Ave) (5959 West Grand Avenue)45 min NewCartel Taco BarCartel Taco Bar50 min NewCurry CornerCurry Corner20 min NewCasa Lucio (2829 N milwaukee)Casa Lucio (2829 N milwaukee)30 min 3.5Halal Fusion BurgerHalal Fusion Burger 25 min  •  $$ NewChicago Curry House - Indian Nepalese CuisineChicago Curry House - Indian Nepalese CuisineOpens at 10:00 AM  •  $$ 4.6Nepal House (Indian & Nepalese Food)Nepal House (Indian & Nepalese Food)Opens at 10:05 AM  •  $$ 4.7Art of DosaArt of DosaOpens at 8:00 AM 4.6India HouseIndia HouseOpens at 11:15 AM  •  $$ 4.5VajraVajraOpens at 5:00 PM  • ' metadata={'source': 'https://www.ubereats.com/category/chicago-il/indian?srsltid=AfmBOorg0R9TGDTOxtIkTAmKYOSPDr_IoDbJMhQpDBIvale5Oyv2OEvQ', 'title': 'THE 10 BEST INDIAN FOOD DELIVERY in Chicago 2025| Order Indian Food Near Me | Uber Eats', 'description': 'Craving Indian Food? Get it fast with your Uber account. Order online from top Indian Food restaurants in Chicago.', 'language': 'en-US'}\n"
          ]
        }
      ],
      "source": [
        "print(documents[0])\n",
        "print(documents[1])\n",
        "print(documents[2])\n",
        "print(documents[3])\n",
        "print(documents[4])\n",
        "print(documents[5])"
      ]
    },
    {
      "cell_type": "markdown",
      "metadata": {
        "id": "c2MEovPDGzBW"
      },
      "source": [
        "\n",
        "\n",
        "- **ChatOpenAI**: This class is used to interact with OpenAI's chat models. In this case, it's initialized with parameters like `temperature=0` and `model_name=\"gpt-3.5-turbo-0125\"`.\n",
        "- **LLMGraphTransformer**: This class is used to transform text documents into graph documents using a language model (LLM).\n",
        "- **Neo4jGraph**: This class represents a connection to a Neo4j graph database.\n",
        "\n",
        "\n",
        "The code first initializes the language model (`llm`) and the transformer (`llm_transformer`) to convert text documents (`documents`) into graph documents. Then, it initializes a `Neo4jGraph` instance (`graph`) and adds the transformed graph documents to the Neo4j database using the `add_graph_documents` method.\n",
        "\n",
        "This approach integrates natural language processing with graph database operations, enabling the creation of structured graph representations from unstructured text data."
      ]
    },
    {
      "cell_type": "code",
      "execution_count": 241,
      "metadata": {
        "id": "0DttkbLsyAza"
      },
      "outputs": [],
      "source": [
        "llm=ChatOpenAI(temperature=0, model_name=\"gpt-3.5-turbo-0125\") # gpt-4-0125-preview occasionally has issues\n",
        "llm_transformer = LLMGraphTransformer(llm=llm)\n",
        "\n",
        "# Following needs to be used only first time to load the data. It took 3m 44s\n",
        "graph_documents = llm_transformer.convert_to_graph_documents(documents)\n",
        "\n",
        "\n"
      ]
    },
    {
      "cell_type": "markdown",
      "metadata": {
        "id": "nW1WQB5-PYhj"
      },
      "source": [
        "**The following needs to be run for the first time when you load data into DB.**"
      ]
    },
    {
      "cell_type": "code",
      "execution_count": 242,
      "metadata": {
        "id": "qxodjNISPSXK"
      },
      "outputs": [],
      "source": [
        "graph.add_graph_documents(\n",
        "    graph_documents,\n",
        "    baseEntityLabel=True,\n",
        "    include_source=True\n",
        ")"
      ]
    },
    {
      "cell_type": "code",
      "execution_count": 243,
      "metadata": {
        "colab": {
          "base_uri": "https://localhost:8080/"
        },
        "id": "zwUdvx8I5208",
        "outputId": "fbe118e9-c3de-4c1e-8abb-19277d9c6c61"
      },
      "outputs": [
        {
          "name": "stdout",
          "output_type": "stream",
          "text": [
            "page_content='THE 10 BEST NEW MEXICAN FOOD DELIVERY in Kansas City 2025| Order New Mexican Food Near Me | Uber Eats\n",
            "\n",
            "\n",
            "\n",
            "\n",
            "\n",
            "Sign inTop categoriesTop dishesPopular citiesPopular areasTop categoriesRaw Food Delivery in Kansas CityCanadian Food Delivery in Kansas CityBreakfast And Brunch Delivery in Kansas CityArabian Food Delivery in Kansas CityCongee Delivery in Kansas CityAsian Food Delivery in Kansas CityAmerican Food Delivery in Kansas CityBar Food Delivery in Kansas CityTraditional American Food Delivery in Kansas CityAllergy Friendly Food Delivery in Kansas CityNoodles Delivery in Kansas CityDominican Food Delivery in Kansas CityFrozen Food Delivery in Kansas CityBrazilian Food Delivery in Kansas CityCustard Delivery in Kansas CityAustralian Food Delivery in Kansas CityCharcuterie Delivery in Kansas CityGerman Food Delivery in Kansas CityHalal Delivery in Kansas CityBread Dishes Delivery in Kansas CityView allTop dishesFish burger Delivery in Kansas CitySoup Dumplings Delivery in Kansas CityRoast Chicken Delivery in Kansas CityArancini Delivery in Kansas CityPupusas Delivery in Kansas CityArroz con leche Delivery in Kansas CityApple crumble Delivery in Kansas CityBaby Back Ribs Delivery in Kansas CityHalloumi Delivery in Kansas CityAmerican pizza Delivery in Kansas CityCrepe Delivery in Kansas CityCarne asada Delivery in Kansas CityChicken burger Delivery in Kansas CityTiramisu Delivery in Kansas CityCalzones Delivery in Kansas CityAvocado salad Delivery in Kansas CityBrownies Delivery in Kansas CityChicken burrito Delivery in Kansas CityChicken karaage Delivery in Kansas CityBanana split Delivery in Kansas CityView allPopular citiesNorthmoor food deliveryRiverside food deliveryHouston Lake food deliveryLake Waukomis food deliveryRandolph food deliveryPlatte Woods food deliveryPleasant Valley food deliveryWeatherby Lake food deliverySugar Creek food deliveryLiberty food deliveryFerrelview food deliveryMission Hills food deliveryParkville food deliveryPrairie Village food deliverySmithville food deliveryIndependence food deliveryRaytown food deliveryMissouri City food deliveryPlatte City food deliveryKearney food deliveryPopular areasVale food deliveryMinneville food deliveryBarry food deliveryOakwood food deliveryPendleton Heights food deliveryRed Bridge food deliveryCrossgates food deliveryKnobtown food deliveryFairlane food deliveryGashland Heights food deliveryRiver Market food deliveryblue-ridge-farms-kansas-city-mo-us food deliverySanta Fe Hills food deliveryQuality Hill food delivery' metadata={'source': 'https://www.ubereats.com/category/kansas-city-mo/new-mexican?srsltid=AfmBOorG3ikGv_VZxj0xNg08GjYCxfvV35hUa7DosV4TdSPoOzs3kc9q', 'title': 'THE 10 BEST NEW MEXICAN FOOD DELIVERY in Kansas City 2025| Order New Mexican Food Near Me | Uber Eats', 'description': 'Craving New Mexican Food? Get it fast with your Uber account. Order online from top New Mexican Food restaurants in Kansas City.', 'language': 'en-US', 'id': '0a31d977d010cc53ff44e715a0b77041'}\n",
            "nodes=[Node(id='New Mexican Food Delivery', type='Food delivery', properties={}), Node(id='Kansas City', type='City', properties={}), Node(id='Uber Eats', type='Food delivery service', properties={})] relationships=[Relationship(source=Node(id='New Mexican Food Delivery', type='Food delivery', properties={}), target=Node(id='Kansas City', type='City', properties={}), type='DELIVERY_IN', properties={}), Relationship(source=Node(id='New Mexican Food Delivery', type='Food delivery', properties={}), target=Node(id='Uber Eats', type='Food delivery service', properties={}), type='AVAILABLE_ON', properties={})] source=Document(metadata={'source': 'https://www.ubereats.com/category/kansas-city-mo/new-mexican?srsltid=AfmBOorG3ikGv_VZxj0xNg08GjYCxfvV35hUa7DosV4TdSPoOzs3kc9q', 'title': 'THE 10 BEST NEW MEXICAN FOOD DELIVERY in Kansas City 2025| Order New Mexican Food Near Me | Uber Eats', 'description': 'Craving New Mexican Food? Get it fast with your Uber account. Order online from top New Mexican Food restaurants in Kansas City.', 'language': 'en-US', 'id': '0a31d977d010cc53ff44e715a0b77041'}, page_content='THE 10 BEST NEW MEXICAN FOOD DELIVERY in Kansas City 2025| Order New Mexican Food Near Me | Uber Eats\\n\\n\\n\\n\\n\\nSign inTop categoriesTop dishesPopular citiesPopular areasTop categoriesRaw Food Delivery in Kansas CityCanadian Food Delivery in Kansas CityBreakfast And Brunch Delivery in Kansas CityArabian Food Delivery in Kansas CityCongee Delivery in Kansas CityAsian Food Delivery in Kansas CityAmerican Food Delivery in Kansas CityBar Food Delivery in Kansas CityTraditional American Food Delivery in Kansas CityAllergy Friendly Food Delivery in Kansas CityNoodles Delivery in Kansas CityDominican Food Delivery in Kansas CityFrozen Food Delivery in Kansas CityBrazilian Food Delivery in Kansas CityCustard Delivery in Kansas CityAustralian Food Delivery in Kansas CityCharcuterie Delivery in Kansas CityGerman Food Delivery in Kansas CityHalal Delivery in Kansas CityBread Dishes Delivery in Kansas CityView allTop dishesFish burger Delivery in Kansas CitySoup Dumplings Delivery in Kansas CityRoast Chicken Delivery in Kansas CityArancini Delivery in Kansas CityPupusas Delivery in Kansas CityArroz con leche Delivery in Kansas CityApple crumble Delivery in Kansas CityBaby Back Ribs Delivery in Kansas CityHalloumi Delivery in Kansas CityAmerican pizza Delivery in Kansas CityCrepe Delivery in Kansas CityCarne asada Delivery in Kansas CityChicken burger Delivery in Kansas CityTiramisu Delivery in Kansas CityCalzones Delivery in Kansas CityAvocado salad Delivery in Kansas CityBrownies Delivery in Kansas CityChicken burrito Delivery in Kansas CityChicken karaage Delivery in Kansas CityBanana split Delivery in Kansas CityView allPopular citiesNorthmoor food deliveryRiverside food deliveryHouston Lake food deliveryLake Waukomis food deliveryRandolph food deliveryPlatte Woods food deliveryPleasant Valley food deliveryWeatherby Lake food deliverySugar Creek food deliveryLiberty food deliveryFerrelview food deliveryMission Hills food deliveryParkville food deliveryPrairie Village food deliverySmithville food deliveryIndependence food deliveryRaytown food deliveryMissouri City food deliveryPlatte City food deliveryKearney food deliveryPopular areasVale food deliveryMinneville food deliveryBarry food deliveryOakwood food deliveryPendleton Heights food deliveryRed Bridge food deliveryCrossgates food deliveryKnobtown food deliveryFairlane food deliveryGashland Heights food deliveryRiver Market food deliveryblue-ridge-farms-kansas-city-mo-us food deliverySanta Fe Hills food deliveryQuality Hill food delivery')\n"
          ]
        }
      ],
      "source": [
        "print (documents[0])\n",
        "print(graph_documents[0])"
      ]
    },
    {
      "cell_type": "markdown",
      "metadata": {
        "id": "-76PrdloHXmK"
      },
      "source": [
        "The `showGraph` function takes an optional `Cypher `query string as input (defaulting to a predefined query), establishes a connection to `Neo4j` using credentials from environment variables, executes the query to retrieve graph data, and then visualizes it using a `GraphWidget`. The widget allows interactive exploration of the graph nodes and relationships directly within the notebook environment, making it easy to analyze and understand graph structures and connections."
      ]
    },
    {
      "cell_type": "code",
      "execution_count": 244,
      "metadata": {
        "colab": {
          "base_uri": "https://localhost:8080/",
          "height": 817,
          "referenced_widgets": [
            "906b3d9501134b9eb6052d351a70c4b1",
            "d7ccdf7dcfeb4f75bed42701785a3c2b"
          ]
        },
        "id": "verAasH9yIu6",
        "outputId": "65cd97f1-1c28-48a6-f770-7bf40a81aa48"
      },
      "outputs": [
        {
          "data": {
            "application/vnd.jupyter.widget-view+json": {
              "model_id": "906b3d9501134b9eb6052d351a70c4b1",
              "version_major": 2,
              "version_minor": 0
            },
            "text/plain": [
              "GraphWidget(layout=Layout(height='800px', width='100%'))"
            ]
          },
          "metadata": {
            "application/vnd.jupyter.widget-view+json": {
              "colab": {
                "custom_widget_manager": {
                  "url": "https://ssl.gstatic.com/colaboratory-static/widgets/colab-cdn-widget-manager/2b70e893a8ba7c0f/manager.min.js"
                }
              }
            }
          },
          "output_type": "display_data"
        }
      ],
      "source": [
        "# directly show the graph resulting from the given Cypher query\n",
        "default_cypher = \"MATCH (s)-[r:!MENTIONS]->(t) RETURN s,r,t LIMIT 50\"\n",
        "\n",
        "def showGraph(cypher: str = default_cypher):\n",
        "    # create a neo4j session to run queries\n",
        "    driver = GraphDatabase.driver(\n",
        "        uri = os.environ[\"NEO4J_URI\"],\n",
        "        auth = (os.environ[\"NEO4J_USERNAME\"],\n",
        "                os.environ[\"NEO4J_PASSWORD\"]))\n",
        "    session = driver.session()\n",
        "    widget = GraphWidget(graph = session.run(cypher).graph())\n",
        "    widget.node_label_mapping = 'id'\n",
        "    #display(widget)\n",
        "    return widget\n",
        "\n",
        "showGraph()"
      ]
    },
    {
      "cell_type": "markdown",
      "metadata": {
        "id": "2LSQjHkAHuTj"
      },
      "source": [
        "The `Neo4jVector.from_existing_graph()` method is used to create a vector index within a Neo4j database. It integrates embeddings from OpenAI's models, facilitating efficient search and retrieval operations based on both textual content and embedding similarities.\n",
        "\n",
        "### Key Components:\n",
        "\n",
        "- **LangChain Components**:\n",
        "  - **Neo4jVector**: This class from LangChain Community is designed to manage vector indexes within Neo4j, enabling storage and retrieval of embeddings associated with graph nodes.\n",
        "  - **OpenAIEmbeddings**: This class from LangChain OpenAI provides tools for generating embeddings using OpenAI's models.\n",
        "\n",
        "- **Initialization Parameters**:\n",
        "  - **OpenAIEmbeddings()**: Initializes the use of OpenAI's models to generate embeddings.\n",
        "  - **search_type=\"hybrid\"**: Specifies a hybrid search approach, leveraging both textual content and embedding similarities for efficient querying.\n",
        "  - **node_label=\"Document\"**: Specifies that nodes labeled \"Document\" in the Neo4j graph will store document-related information.\n",
        "  - **text_node_properties=[\"text\"]**: Defines the property name(s) within \"Document\" nodes where textual content is stored.\n",
        "  - **embedding_node_property=\"embedding\"**: Specifies the property name where embeddings are stored within the \"Document\" nodes.\n",
        "\n",
        "### Usage Scenario:\n",
        "\n",
        "This setup is useful in scenarios where you want to store and query documents based on both their textual content and their embeddings. For example, you can store documents in Neo4j, extract their embeddings using OpenAI's models, and then use this vector index to efficiently search for documents based on their semantic similarity to a given query or to other documents in the database.\n",
        "\n",
        "This approach leverages the capabilities of Neo4j for graph-based storage and retrieval, coupled with advanced embedding techniques from OpenAI, providing a powerful toolset for managing and analyzing textual data within a graph database environment."
      ]
    },
    {
      "cell_type": "code",
      "execution_count": 245,
      "metadata": {
        "id": "J23HXjaEzdu8"
      },
      "outputs": [],
      "source": [
        "vector_index = Neo4jVector.from_existing_graph(\n",
        "    OpenAIEmbeddings(),\n",
        "    search_type=\"hybrid\",\n",
        "    node_label=\"Document\",\n",
        "    text_node_properties=[\"text\"],\n",
        "    embedding_node_property=\"embedding\"\n",
        ")"
      ]
    },
    {
      "cell_type": "markdown",
      "metadata": {
        "id": "U__qaE9sHtW8"
      },
      "source": [
        "\n",
        "\n",
        "### Retriever Setup:\n",
        "\n",
        "The code snippet performs the following actions:\n",
        "\n",
        "1. **Create Fulltext Index**:\n",
        "   - The `graph.query()` statement creates a fulltext index named `entity` if it does not already exist. This index is applied to nodes labeled `__Entity__` and indexes the `id` property of these nodes for efficient querying.\n",
        "\n",
        "2. **Entity Data Model**:\n",
        "   - The `Entities` class, derived from `BaseModel`, defines a structured representation for identifying information about entities extracted from text.\n",
        "   - **Names**: A list of strings representing entities such as courses, professors, requirements, or project entities found in the text.\n",
        "\n",
        "3. **Chat Prompt Template**:\n",
        "   - The `ChatPromptTemplate.from_messages()` method initializes a prompt template for interacting with users.\n",
        "   - The prompt consists of a system message informing the user about the extraction task and a human message specifying the format for input to extract information.\n",
        "\n",
        "4. **Entity Chain**:\n",
        "   - The `prompt | llm.with_structured_output(Entities)` constructs an entity extraction pipeline using LangChain:\n",
        "     - **Prompt**: Provides instructions to the user on how to input questions or text for entity extraction.\n",
        "     - **LLM (Language Model)**: Processes the input using OpenAI's language model to extract structured entities as defined by the `Entities` class.\n",
        "\n",
        "### Usage:\n",
        "\n",
        "This setup is designed to facilitate the extraction of entities from text input in a structured and systematic manner. The fulltext index ensures that entity nodes in the Neo4j graph are efficiently indexed, allowing for quick retrieval of relevant entities based on their `id` property. The `Entities` data model and the prompt template guide the interaction with users, ensuring that the extraction process is clear and consistent.\n",
        "\n",
        "This approach leverages natural language processing and graph database capabilities to manage and analyze textual data effectively, supporting tasks such as information extraction, entity linking, and knowledge base population within a broader application or system."
      ]
    },
    {
      "cell_type": "code",
      "execution_count": 246,
      "metadata": {
        "id": "4DLAEMgHz2nF"
      },
      "outputs": [],
      "source": [
        "# Retriever\n",
        "\n",
        "graph.query(\n",
        "    \"CREATE FULLTEXT INDEX entity IF NOT EXISTS FOR (e:__Entity__) ON EACH [e.id]\")\n",
        "\n",
        "# Extract entities from text\n",
        "class Entities(BaseModel):\n",
        "    \"\"\"Identifying information about entities.\"\"\"\n",
        "\n",
        "    names: List[str] = Field(\n",
        "        ...,\n",
        "        description=\"All the courses, requirements, or business entities that \"\n",
        "        \"appear in the text\",\n",
        "    )\n",
        "\n",
        "prompt = ChatPromptTemplate.from_messages(\n",
        "    [\n",
        "        (\n",
        "            \"system\",\n",
        "            \"You are extracting course, professors, requirements, project entities from the text.\",\n",
        "        ),\n",
        "        (\n",
        "            \"human\",\n",
        "            \"Use the given format to extract information from the following \"\n",
        "            \"input: {question}\",\n",
        "        ),\n",
        "    ]\n",
        ")\n",
        "\n",
        "entity_chain = prompt | llm.with_structured_output(Entities)"
      ]
    },
    {
      "cell_type": "markdown",
      "metadata": {
        "id": "_JKJNR3YWU-p"
      },
      "source": [
        "### Description\n",
        "\n",
        "This script is used to retrieve related information from a Neo4j graph database based on user input.\n",
        "\n",
        "#### Functions:\n",
        "\n",
        "- **`generate_full_text_query(input: str)`**  \n",
        "  Converts a given input string into a fuzzy full-text search query.  \n",
        "  - Splits the input into individual words.\n",
        "  - Appends a similarity threshold (`~2`) to each word to allow minor misspellings.\n",
        "  - Combines the words using the `AND` operator for more accurate matching.\n",
        "\n",
        "- **`structured_retriever(question: str)`**  \n",
        "  Extracts entities from a natural language question and fetches related nodes from the graph.  \n",
        "  - Uses `entity_chain` to extract key entity names from the question.\n",
        "  - For each entity, performs a full-text search using the generated query.\n",
        "  - Retrieves up to 50 paths showing relationships to and from each matching node.\n",
        "  - Returns the results as a formatted string."
      ]
    },
    {
      "cell_type": "code",
      "execution_count": 247,
      "metadata": {
        "id": "V1jRiI6G0J6P"
      },
      "outputs": [],
      "source": [
        "def generate_full_text_query(input: str) -> str:\n",
        "    \"\"\"\n",
        "    Generate a full-text search query for a given input string.\n",
        "\n",
        "    This function constructs a query string suitable for a full-text search.\n",
        "    It processes the input string by splitting it into words and appending a\n",
        "    similarity threshold (~2 changed characters) to each word, then combines\n",
        "    them using the AND operator. Useful for mapping entities from user questions\n",
        "    to database values, and allows for some misspelings.\n",
        "    \"\"\"\n",
        "    full_text_query = \"\"\n",
        "    words = [el for el in remove_lucene_chars(input).split() if el]\n",
        "    for word in words[:-1]:\n",
        "        full_text_query += f\" {word}~2 AND\"\n",
        "    full_text_query += f\" {words[-1]}~2\"\n",
        "    return full_text_query.strip()\n",
        "\n",
        "# Fulltext index query\n",
        "def structured_retriever(question: str) -> str:\n",
        "    \"\"\"\n",
        "    Collects the neighborhood of entities mentioned\n",
        "    in the question\n",
        "    \"\"\"\n",
        "    result = \"\"\n",
        "    entities = entity_chain.invoke({\"question\": question})ky\n",
        "    for entity in entities.names:\n",
        "        response = graph.query(\n",
        "            \"\"\"CALL db.index.fulltext.queryNodes('entity', $query, {limit:2})\n",
        "            YIELD node,score\n",
        "            CALL {\n",
        "              WITH node\n",
        "              MATCH (node)-[r:!MENTIONS]->(neighbor)\n",
        "              RETURN node.id + ' - ' + type(r) + ' -> ' + neighbor.id AS output\n",
        "              UNION ALL\n",
        "              WITH node\n",
        "              MATCH (node)<-[r:!MENTIONS]-(neighbor)\n",
        "              RETURN neighbor.id + ' - ' + type(r) + ' -> ' +  node.id AS output\n",
        "            }\n",
        "            RETURN output LIMIT 50\n",
        "            \"\"\",\n",
        "            {\"query\": generate_full_text_query(entity)},\n",
        "        )\n",
        "        result += \"\\n\".join([el['output'] for el in response])\n",
        "    return result"
      ]
    },
    {
      "cell_type": "markdown",
      "metadata": {
        "id": "aDRKabxJWU-q"
      },
      "source": [
        "- **`retriever(question: str)`**  \n",
        "  Combines results from both structured and unstructured data sources to answer a user question.  \n",
        "  - Logs the original search query.\n",
        "  - Uses `structured_retriever` to fetch entity-related information from a Neo4j graph (structured data).\n",
        "  - Performs a similarity search over a vector index to retrieve relevant documents (unstructured data).\n",
        "  - Formats and returns both data types in a combined response.\n"
      ]
    },
    {
      "cell_type": "code",
      "execution_count": 248,
      "metadata": {
        "id": "C1ftDuLy0P8X"
      },
      "outputs": [],
      "source": [
        "def retriever(question: str):\n",
        "    print(f\"Search query: {question}\")\n",
        "    structured_data = structured_retriever(question)\n",
        "    unstructured_data = [el.page_content for el in vector_index.similarity_search(question)]\n",
        "    final_data = f\"\"\"Structured data:\n",
        "{structured_data}\n",
        "Unstructured data:\n",
        "{\"#Document \". join(unstructured_data)}\n",
        "    \"\"\"\n",
        "    return final_data"
      ]
    },
    {
      "cell_type": "markdown",
      "metadata": {
        "id": "b_-vBRUQWU-r"
      },
      "source": [
        "### Condensing Chat History for Standalone Question Generation\n",
        "\n",
        "This code helps rephrase a follow-up question into a standalone question by considering the previous chat history.\n",
        "\n",
        "#### Components:\n",
        "\n",
        "- **`_template` and `CONDENSE_QUESTION_PROMPT`**  \n",
        "  Defines a prompt template used to generate a standalone question from a follow-up query and previous chat context.\n",
        "\n",
        "- **`_format_chat_history(chat_history: List[Tuple[str, str]]) -> List`**  \n",
        "  Converts a list of chat history (pairs of human and AI messages) into a format compatible with LLMs, using `HumanMessage` and `AIMessage` objects.\n",
        "\n",
        "- **`_search_query`**  \n",
        "  A conditional chain (`RunnableBranch`) that:\n",
        "  - If chat history exists:\n",
        "    - Formats the history.\n",
        "    - Fills the prompt with the history and the follow-up question.\n",
        "    - Sends it to an LLM (e.g., OpenAI) to generate a standalone question.\n",
        "  - If no chat history exists:\n",
        "    - Returns the original question as-is.\n",
        "\n",
        "This setup is typically used to improve retrieval or question answering pipelines by ensuring queries are self-contained.\n"
      ]
    },
    {
      "cell_type": "code",
      "execution_count": 249,
      "metadata": {
        "id": "azltkyJN0U_I"
      },
      "outputs": [],
      "source": [
        "# Condense a chat history and follow-up question into a standalone question\n",
        "_template = \"\"\"Given the following conversation and a follow up question, rephrase the follow up question to be a standalone question,\n",
        "in its original language.\n",
        "Chat History:\n",
        "{chat_history}\n",
        "Follow Up Input: {question}\n",
        "Standalone question:\"\"\"  # noqa: E501\n",
        "CONDENSE_QUESTION_PROMPT = PromptTemplate.from_template(_template)\n",
        "\n",
        "def _format_chat_history(chat_history: List[Tuple[str, str]]) -> List:\n",
        "    buffer = []\n",
        "    for human, ai in chat_history:\n",
        "        buffer.append(HumanMessage(content=human))\n",
        "        buffer.append(AIMessage(content=ai))\n",
        "    return buffer\n",
        "\n",
        "_search_query = RunnableBranch(\n",
        "    # If input includes chat_history, we condense it with the follow-up question\n",
        "    (\n",
        "        RunnableLambda(lambda x: bool(x.get(\"chat_history\"))).with_config(\n",
        "            run_name=\"HasChatHistoryCheck\"\n",
        "        ),  # Condense follow-up question and chat into a standalone_question\n",
        "        RunnablePassthrough.assign(\n",
        "            chat_history=lambda x: _format_chat_history(x[\"chat_history\"])\n",
        "        )\n",
        "        | CONDENSE_QUESTION_PROMPT\n",
        "        | ChatOpenAI(temperature=0)\n",
        "        | StrOutputParser(),\n",
        "    ),\n",
        "    # Else, we have no chat history, so just pass through the question\n",
        "    RunnableLambda(lambda x : x[\"question\"]),\n",
        ")"
      ]
    },
    {
      "cell_type": "markdown",
      "metadata": {
        "id": "tpA9dhbRWU-6"
      },
      "source": [
        "### Answering a Question Using Context-Aware Retrieval\n",
        "\n",
        "This code defines a chain that answers a user question based only on retrieved context from structured and unstructured sources.\n",
        "\n",
        "#### Components:\n",
        "\n",
        "- **`template` and `prompt`**  \n",
        "  A prompt template that:\n",
        "  - Inserts the relevant context and the user's question.\n",
        "  - Instructs the model to respond in natural, concise language.\n",
        "\n",
        "- **`chain`**  \n",
        "  A composed pipeline that:\n",
        "  - Runs two parallel steps:\n",
        "    - **`_search_query | retriever`**: Uses the `_search_query` logic to condense the question (if chat history exists), and then fetches relevant context via the `retriever` function.\n",
        "    - **`RunnablePassthrough()`**: Passes the original question directly.\n",
        "  - Fills the `prompt` with the retrieved context and question.\n",
        "  - Sends the filled prompt to the language model (`llm`) to generate a response.\n",
        "  - Parses and returns the final answer as a plain string.\n",
        "\n",
        "This setup ensures that the model's response is grounded in actual retrieved knowledge, improving relevance and accuracy.\n"
      ]
    },
    {
      "cell_type": "code",
      "execution_count": 250,
      "metadata": {
        "id": "Bru0C7ox0aJY"
      },
      "outputs": [],
      "source": [
        "# Answer the question based only on the following context\n",
        "template = \"\"\"Answer the query:\n",
        "{context}\n",
        "\n",
        "Question: {question}\n",
        "Use natural language and be concise.\n",
        "Answer:\"\"\"\n",
        "prompt = ChatPromptTemplate.from_template(template)\n",
        "\n",
        "chain = (\n",
        "    RunnableParallel(\n",
        "        {\n",
        "            \"context\": _search_query | retriever,\n",
        "            \"question\": RunnablePassthrough(),\n",
        "        }\n",
        "    )\n",
        "    | prompt\n",
        "    | llm\n",
        "    | StrOutputParser()\n",
        ")"
      ]
    },
    {
      "cell_type": "markdown",
      "metadata": {
        "id": "87XK7HSgWU-8"
      },
      "source": [
        "### `chain.invoke({\"question\": \"...\"})` — What It Does\n",
        "\n",
        "This command executes a full pipeline that answers a user’s question by retrieving relevant data from both structured and unstructured sources."
      ]
    },
    {
      "cell_type": "markdown",
      "metadata": {
        "id": "oBOP7MYrV3Af"
      },
      "source": []
    },
    {
      "cell_type": "code",
      "execution_count": 251,
      "metadata": {
        "colab": {
          "base_uri": "https://localhost:8080/",
          "height": 54
        },
        "id": "Xv4LdswWPvZe",
        "outputId": "f92e8b67-ef77-4e00-fad3-e83116d7e4fd"
      },
      "outputs": [
        {
          "name": "stdout",
          "output_type": "stream",
          "text": [
            "Search query: What is the minimum score of Duolingo?\n"
          ]
        },
        {
          "data": {
            "application/vnd.google.colaboratory.intrinsic+json": {
              "type": "string"
            },
            "text/plain": [
              "'The minimum score on Duolingo is 0.'"
            ]
          },
          "execution_count": 251,
          "metadata": {},
          "output_type": "execute_result"
        }
      ],
      "source": [
        "chain.invoke({\"question\": \"What is the minimum score of Duolingo?\"})"
      ]
    },
    {
      "cell_type": "code",
      "execution_count": 252,
      "metadata": {
        "colab": {
          "base_uri": "https://localhost:8080/",
          "height": 54
        },
        "id": "L5C9R3Pp0lrw",
        "outputId": "03235376-e11b-439c-9555-c6c20da98a0a"
      },
      "outputs": [
        {
          "name": "stdout",
          "output_type": "stream",
          "text": [
            "Search query: Is the minimum score for Dulingo 110 ?\n"
          ]
        },
        {
          "data": {
            "application/vnd.google.colaboratory.intrinsic+json": {
              "type": "string"
            },
            "text/plain": [
              "'The minimum score for Duolingo is not 110.'"
            ]
          },
          "execution_count": 252,
          "metadata": {},
          "output_type": "execute_result"
        }
      ],
      "source": [
        "#True Positive\n",
        "chain.invoke({\"question\": \"Is the minimum score for Dulingo 110 ?\"})"
      ]
    },
    {
      "cell_type": "markdown",
      "metadata": {
        "id": "en1XQ9DlWU-_"
      },
      "source": [
        "### Disabling Warnings and Setting Logging Levels for Neo4j\n",
        "\n",
        "This code snippet is used to **suppress warnings** and **set logging levels** for specific parts of the code, especially in the context of working with the Neo4j database.\n",
        "\n",
        "---"
      ]
    },
    {
      "cell_type": "code",
      "execution_count": 253,
      "metadata": {
        "id": "QAd4_yQDRQMv"
      },
      "outputs": [],
      "source": [
        "import warnings\n",
        "import logging\n",
        "\n",
        "warnings.filterwarnings(\"ignore\")\n",
        "logging.getLogger(\"neo4j.notifications\").setLevel(logging.ERROR)"
      ]
    },
    {
      "cell_type": "code",
      "execution_count": 254,
      "metadata": {
        "colab": {
          "base_uri": "https://localhost:8080/",
          "height": 54
        },
        "id": "duilHxHs1Ac9",
        "outputId": "43333564-e480-4f07-eb36-d507905f075d"
      },
      "outputs": [
        {
          "name": "stdout",
          "output_type": "stream",
          "text": [
            "Search query: Is a  score of 100 not sufficient for Dulingo ?\n"
          ]
        },
        {
          "data": {
            "application/vnd.google.colaboratory.intrinsic+json": {
              "type": "string"
            },
            "text/plain": [
              "'A score of 100 is not sufficient for Duolingo.'"
            ]
          },
          "execution_count": 254,
          "metadata": {},
          "output_type": "execute_result"
        }
      ],
      "source": [
        "#True Negative\n",
        "chain.invoke({\"question\": \"Is a  score of 100 not sufficient for Dulingo ?\"})"
      ]
    },
    {
      "cell_type": "code",
      "execution_count": 255,
      "metadata": {
        "colab": {
          "base_uri": "https://localhost:8080/",
          "height": 54
        },
        "id": "S7CARN8C1IRB",
        "outputId": "f95ffbbb-5658-408f-8ae0-4d466a0ba5d6"
      },
      "outputs": [
        {
          "name": "stdout",
          "output_type": "stream",
          "text": [
            "Search query: Is a  score of 115 not sufficient for Dulingo ?\n"
          ]
        },
        {
          "data": {
            "application/vnd.google.colaboratory.intrinsic+json": {
              "type": "string"
            },
            "text/plain": [
              "'A score of 115 is not sufficient for Duolingo.'"
            ]
          },
          "execution_count": 255,
          "metadata": {},
          "output_type": "execute_result"
        }
      ],
      "source": [
        "# False Negative\n",
        "chain.invoke({\"question\": \"Is a  score of 115 not sufficient for Dulingo ?\"})"
      ]
    },
    {
      "cell_type": "code",
      "execution_count": 256,
      "metadata": {
        "colab": {
          "base_uri": "https://localhost:8080/",
          "height": 54
        },
        "id": "FR1gMLPx1S0M",
        "outputId": "5e7019b7-c47b-4c75-8ce5-936365a33415"
      },
      "outputs": [
        {
          "name": "stdout",
          "output_type": "stream",
          "text": [
            "Search query: Is a  score of 105 sufficient for Dulingo ?\n"
          ]
        },
        {
          "data": {
            "application/vnd.google.colaboratory.intrinsic+json": {
              "type": "string"
            },
            "text/plain": [
              "'A score of 105 is sufficient for Duolingo.'"
            ]
          },
          "execution_count": 256,
          "metadata": {},
          "output_type": "execute_result"
        }
      ],
      "source": [
        "# False Positives\n",
        "chain.invoke({\"question\": \"Is a  score of 105 sufficient for Dulingo ?\"})"
      ]
    },
    {
      "cell_type": "markdown",
      "metadata": {
        "id": "JHVxM45pR1p5"
      },
      "source": []
    },
    {
      "cell_type": "code",
      "execution_count": 257,
      "metadata": {
        "colab": {
          "base_uri": "https://localhost:8080/",
          "height": 54
        },
        "id": "DJRGvroZ1cSJ",
        "outputId": "80c09f29-1c41-48fd-c967-62147ef13d66"
      },
      "outputs": [
        {
          "name": "stdout",
          "output_type": "stream",
          "text": [
            "Search query: Who is the Advisor for MSACS program?\n"
          ]
        },
        {
          "data": {
            "application/vnd.google.colaboratory.intrinsic+json": {
              "type": "string"
            },
            "text/plain": [
              "'The query does not provide information related to the Advisor for the MSACS program.'"
            ]
          },
          "execution_count": 257,
          "metadata": {},
          "output_type": "execute_result"
        }
      ],
      "source": [
        "chain.invoke({\"question\": \"Who is the Advisor for MSACS program?\"})"
      ]
    },
    {
      "cell_type": "code",
      "execution_count": 258,
      "metadata": {
        "colab": {
          "base_uri": "https://localhost:8080/",
          "height": 54
        },
        "id": "Q784P6LWt-ua",
        "outputId": "b21d96c2-ae64-4ee2-87be-751be260f83e"
      },
      "outputs": [
        {
          "name": "stdout",
          "output_type": "stream",
          "text": [
            "Search query: What is his email ?\n"
          ]
        },
        {
          "data": {
            "application/vnd.google.colaboratory.intrinsic+json": {
              "type": "string"
            },
            "text/plain": [
              "\"The query does not provide any information about a specific person's email address.\""
            ]
          },
          "execution_count": 258,
          "metadata": {},
          "output_type": "execute_result"
        }
      ],
      "source": [
        "chain.invoke({\"question\": \"What is his email ?\"})"
      ]
    },
    {
      "cell_type": "code",
      "execution_count": 259,
      "metadata": {
        "colab": {
          "base_uri": "https://localhost:8080/",
          "height": 54
        },
        "id": "T1x2V51PuENT",
        "outputId": "9cc28b1e-ed3e-4dcc-9460-355d024b86be"
      },
      "outputs": [
        {
          "name": "stdout",
          "output_type": "stream",
          "text": [
            "Search query: What are the required courses ?\n"
          ]
        },
        {
          "data": {
            "application/vnd.google.colaboratory.intrinsic+json": {
              "type": "string"
            },
            "text/plain": [
              "'Structured data: There are no specific courses mentioned in the provided text.\\n\\nUnstructured data: The text does not provide information on required courses.'"
            ]
          },
          "execution_count": 259,
          "metadata": {},
          "output_type": "execute_result"
        }
      ],
      "source": [
        "chain.invoke({\"question\": \"What are the required courses ?\"})"
      ]
    },
    {
      "cell_type": "code",
      "execution_count": 260,
      "metadata": {
        "colab": {
          "base_uri": "https://localhost:8080/",
          "height": 54
        },
        "id": "EjgwVXmyvqmM",
        "outputId": "1722a6c9-99da-4dd8-93c6-24421e890fa1"
      },
      "outputs": [
        {
          "name": "stdout",
          "output_type": "stream",
          "text": [
            "Search query: Is fire hot tell me T or F?\n"
          ]
        },
        {
          "data": {
            "application/vnd.google.colaboratory.intrinsic+json": {
              "type": "string"
            },
            "text/plain": [
              "'True'"
            ]
          },
          "execution_count": 260,
          "metadata": {},
          "output_type": "execute_result"
        }
      ],
      "source": [
        "chain.invoke({\"question\": \"Is fire hot tell me T or F?\"})"
      ]
    },
    {
      "cell_type": "code",
      "execution_count": 261,
      "metadata": {
        "colab": {
          "base_uri": "https://localhost:8080/"
        },
        "id": "EIkFhW5cWU_G",
        "outputId": "b6e1f674-53ad-4db6-fb29-3e1c27316816"
      },
      "outputs": [
        {
          "name": "stdout",
          "output_type": "stream",
          "text": [
            "Overwriting main.py\n"
          ]
        }
      ],
      "source": [
        "%%writefile main.py\n",
        "from langchain_core.runnables import (\n",
        "    RunnableBranch,\n",
        "    RunnableLambda,\n",
        "    RunnableParallel,\n",
        "    RunnablePassthrough,\n",
        ")\n",
        "from langchain_core.prompts import ChatPromptTemplate\n",
        "from langchain_core.prompts.prompt import PromptTemplate\n",
        "from langchain_core.pydantic_v1 import BaseModel, Field\n",
        "from typing import Tuple, List, Optional\n",
        "from langchain_core.messages import AIMessage, HumanMessage\n",
        "from langchain_core.output_parsers import StrOutputParser\n",
        "import os\n",
        "from langchain_community.graphs import Neo4jGraph\n",
        "from langchain.text_splitter import TokenTextSplitter\n",
        "from langchain_openai import ChatOpenAI\n",
        "from langchain_experimental.graph_transformers import LLMGraphTransformer\n",
        "from neo4j import GraphDatabase\n",
        "from langchain_community.vectorstores import Neo4jVector\n",
        "from langchain_openai import OpenAIEmbeddings\n",
        "from langchain_community.vectorstores.neo4j_vector import remove_lucene_chars\n",
        "from langchain_core.runnables import ConfigurableField, RunnableParallel, RunnablePassthrough\n",
        "\n",
        "\n",
        "try:\n",
        "  import google.colab\n",
        "  from google.colab import output\n",
        "  output.enable_custom_widget_manager()\n",
        "except:\n",
        "  pass\n",
        "\n",
        "os.environ[\"OPENAI_API_KEY\"] = \"\"#replace your OPEN_API key\n",
        "os.environ[\"NEO4J_URI\"] = \"\"#NEO4J URL\n",
        "os.environ[\"NEO4J_USERNAME\"] = \"neo4j\" #NEO4J USERNAME\n",
        "os.environ[\"NEO4J_PASSWORD\"] = \"\"#NEO4J PASSWORD\n",
        "\n",
        "_search_query = RunnableLambda(lambda x : x[\"question\"])\n",
        "\n",
        "\n",
        "graph = Neo4jGraph()\n",
        "\n",
        "llm=ChatOpenAI(temperature=0, model_name=\"gpt-3.5-turbo-0125\") # gpt-4-0125-preview occasionally has issues\n",
        "llm_transformer = LLMGraphTransformer(llm=llm)\n",
        "\n",
        "vector_index = Neo4jVector.from_existing_graph(\n",
        "    OpenAIEmbeddings(),\n",
        "    search_type=\"hybrid\",\n",
        "    node_label=\"Document\",\n",
        "    text_node_properties=[\"text\"],\n",
        "    embedding_node_property=\"embedding\"\n",
        ")\n",
        "\n",
        "\n",
        "graph.query(\n",
        "    \"CREATE FULLTEXT INDEX entity IF NOT EXISTS FOR (e:__Entity__) ON EACH [e.id]\")\n",
        "\n",
        "# Extract entities from text\n",
        "class Entities(BaseModel):\n",
        "    \"\"\"Identifying information about entities.\"\"\"\n",
        "\n",
        "    names: List[str] = Field(\n",
        "        ...,\n",
        "        description=\"All the courses, requirements, or business entities that \"\n",
        "        \"appear in the text\",\n",
        "    )\n",
        "\n",
        "prompt = ChatPromptTemplate.from_messages(\n",
        "    [\n",
        "        (\n",
        "            \"system\",\n",
        "            \"You are extracting course, professors, requirements, project entities from the text.\",\n",
        "        ),\n",
        "        (\n",
        "            \"human\",\n",
        "            \"Use the given format to extract information from the following \"\n",
        "            \"input: {question}\",\n",
        "        ),\n",
        "    ]\n",
        ")\n",
        "\n",
        "entity_chain = prompt | llm.with_structured_output(Entities)\n",
        "\n",
        "def generate_full_text_query(input: str) -> str:\n",
        "    \"\"\"\n",
        "    Generate a full-text search query for a given input string.\n",
        "\n",
        "    This function constructs a query string suitable for a full-text search.\n",
        "    It processes the input string by splitting it into words and appending a\n",
        "    similarity threshold (~2 changed characters) to each word, then combines\n",
        "    them using the AND operator. Useful for mapping entities from user questions\n",
        "    to database values, and allows for some misspelings.\n",
        "    \"\"\"\n",
        "    full_text_query = \"\"\n",
        "    words = [el for el in remove_lucene_chars(input).split() if el]\n",
        "    for word in words[:-1]:\n",
        "        full_text_query += f\" {word}~2 AND\"\n",
        "    full_text_query += f\" {words[-1]}~2\"\n",
        "    return full_text_query.strip()\n",
        "\n",
        "# Fulltext index query\n",
        "def structured_retriever(question: str) -> str:\n",
        "    \"\"\"\n",
        "    Collects the neighborhood of entities mentioned\n",
        "    in the question\n",
        "    \"\"\"\n",
        "    result = \"\"\n",
        "    entities = entity_chain.invoke({\"question\": question})\n",
        "    for entity in entities.names:\n",
        "        response = graph.query(\n",
        "            \"\"\"CALL db.index.fulltext.queryNodes('entity', $query, {limit:2})\n",
        "            YIELD node,score\n",
        "            CALL {\n",
        "              WITH node\n",
        "              MATCH (node)-[r:!MENTIONS]->(neighbor)\n",
        "              RETURN node.id + ' - ' + type(r) + ' -> ' + neighbor.id AS output\n",
        "              UNION ALL\n",
        "              WITH node\n",
        "              MATCH (node)<-[r:!MENTIONS]-(neighbor)\n",
        "              RETURN neighbor.id + ' - ' + type(r) + ' -> ' +  node.id AS output\n",
        "            }\n",
        "            RETURN output LIMIT 50\n",
        "            \"\"\",\n",
        "            {\"query\": generate_full_text_query(entity)},\n",
        "        )\n",
        "        result += \"\\n\".join([el['output'] for el in response])\n",
        "    return result\n",
        "\n",
        "def retriever(question: str):\n",
        "    print(f\"Search query: {question}\")\n",
        "    structured_data = structured_retriever(question)\n",
        "    unstructured_data = [el.page_content for el in vector_index.similarity_search(question)]\n",
        "    final_data = f\"\"\" Structured data: {structured_data} Unstructured data: {\"#Document \". join(unstructured_data)}  \"\"\"\n",
        "    return final_data\n",
        "\n",
        "\n",
        "def answerquery(question: str):\n",
        "  template = \"\"\"Answer the question based only on the following context:\n",
        "  {context}\n",
        "\n",
        "  Question: {question}\n",
        "  Use natural language and be concise.\n",
        "  Answer:\"\"\"\n",
        "  prompt = ChatPromptTemplate.from_template(template)\n",
        "\n",
        "  chain = (\n",
        "      RunnableParallel(\n",
        "          {\n",
        "              \"context\": _search_query | retriever,\n",
        "              \"question\": RunnablePassthrough(),\n",
        "          }\n",
        "      )\n",
        "      | prompt\n",
        "      | llm\n",
        "      | StrOutputParser()\n",
        "  )\n",
        "\n",
        "  return chain.invoke(({\"question\": question}))\n"
      ]
    },
    {
      "cell_type": "code",
      "execution_count": 262,
      "metadata": {
        "colab": {
          "base_uri": "https://localhost:8080/"
        },
        "id": "UzFfyTKBZfoa",
        "outputId": "19de55e9-519f-43f2-e36a-9ca96d2b9ecd"
      },
      "outputs": [
        {
          "name": "stdout",
          "output_type": "stream",
          "text": [
            "Overwriting app.py\n"
          ]
        }
      ],
      "source": [
        "%%writefile app.py\n",
        "import streamlit as st\n",
        "from main import answerquery\n",
        "\n",
        "st.title(\"Travel Chatbot For Restaurant Recommendations\")\n",
        "\n",
        "# Initialize chat history\n",
        "if \"messages\" not in st.session_state:\n",
        "    st.session_state.messages = []\n",
        "\n",
        "# Display chat messages from history on app rerun\n",
        "for message in st.session_state.messages:\n",
        "    with st.chat_message(message[\"role\"]):\n",
        "        st.markdown(message[\"content\"])\n",
        "\n",
        "# React to user input\n",
        "if prompt := st.text_input(\"What is up?\"):\n",
        "    # Display user message in chat message container\n",
        "    st.chat_message(\"user\").markdown(prompt)\n",
        "    # Add user message to chat history\n",
        "    st.session_state.messages.append({\"role\": \"user\", \"content\": prompt})\n",
        "\n",
        "    response = answerquery(prompt)\n",
        "    # Display assistant response in chat message container\n",
        "    with st.chat_message(\"assistant\"):\n",
        "        st.markdown(response)\n",
        "    # Add assistant response to chat history\n",
        "    st.session_state.messages.append({\"role\": \"assistant\", \"content\": response})"
      ]
    },
    {
      "cell_type": "code",
      "execution_count": null,
      "metadata": {
        "colab": {
          "base_uri": "https://localhost:8080/"
        },
        "id": "NFaxmm4cZyu9",
        "outputId": "b97a9e5d-3737-478b-fcb2-e16b09f75cbc"
      },
      "outputs": [
        {
          "name": "stdout",
          "output_type": "stream",
          "text": [
            "\n",
            "Collecting usage statistics. To deactivate, set browser.gatherUsageStats to false.\n",
            "\u001b[0m\n",
            "\u001b[0m\n",
            "\u001b[34m\u001b[1m  You can now view your Streamlit app in your browser.\u001b[0m\n",
            "\u001b[0m\n",
            "\u001b[34m  Local URL: \u001b[0m\u001b[1mhttp://localhost:8501\u001b[0m\n",
            "\u001b[34m  Network URL: \u001b[0m\u001b[1mhttp://172.28.0.12:8501\u001b[0m\n",
            "\u001b[34m  External URL: \u001b[0m\u001b[1mhttp://34.106.248.136:8501\u001b[0m\n",
            "\u001b[0m\n"
          ]
        }
      ],
      "source": [
        "!streamlit run app.py"
      ]
    }
  ],
  "metadata": {
    "colab": {
      "provenance": []
    },
    "kernelspec": {
      "display_name": "Python 3",
      "name": "python3"
    },
    "language_info": {
      "codemirror_mode": {
        "name": "ipython",
        "version": 3
      },
      "file_extension": ".py",
      "mimetype": "text/x-python",
      "name": "python",
      "nbconvert_exporter": "python",
      "pygments_lexer": "ipython3",
      "version": "3.12.6"
    },
    "widgets": {
      "application/vnd.jupyter.widget-state+json": {
        "906b3d9501134b9eb6052d351a70c4b1": {
          "model_module": "yfiles-jupyter-graphs",
          "model_module_version": "^1.10.5",
          "model_name": "GraphModel",
          "state": {
            "_context_pane_mapping": [
              {
                "id": "Neighborhood",
                "title": "Neighborhood"
              },
              {
                "id": "Data",
                "title": "Data"
              },
              {
                "id": "Search",
                "title": "Search"
              },
              {
                "id": "About",
                "title": "About"
              }
            ],
            "_data_importer": "neo4j",
            "_directed": true,
            "_dom_classes": [],
            "_edges": [
              {
                "color": "#673AB7",
                "directed": true,
                "end": 6,
                "id": 1152922604118474800,
                "label": "HAS_MENU",
                "properties": {
                  "label": "HAS_MENU"
                },
                "start": 5,
                "styles": {},
                "thickness_factor": 1
              },
              {
                "color": "#673AB7",
                "directed": true,
                "end": 7,
                "id": 1155174403932160000,
                "label": "HAS_MENU",
                "properties": {
                  "label": "HAS_MENU"
                },
                "start": 5,
                "styles": {},
                "thickness_factor": 1
              },
              {
                "color": "#673AB7",
                "directed": true,
                "end": 8,
                "id": 1157426203745845200,
                "label": "HAS_MENU",
                "properties": {
                  "label": "HAS_MENU"
                },
                "start": 5,
                "styles": {},
                "thickness_factor": 1
              },
              {
                "color": "#673AB7",
                "directed": true,
                "end": 9,
                "id": 1159678003559530500,
                "label": "HAS_MENU",
                "properties": {
                  "label": "HAS_MENU"
                },
                "start": 5,
                "styles": {},
                "thickness_factor": 1
              },
              {
                "color": "#673AB7",
                "directed": true,
                "end": 11,
                "id": 1155174403932160000,
                "label": "HAS_MENU",
                "properties": {
                  "label": "HAS_MENU"
                },
                "start": 9,
                "styles": {},
                "thickness_factor": 1
              },
              {
                "color": "#673AB7",
                "directed": true,
                "end": 12,
                "id": 1157426203745845200,
                "label": "HAS_MENU",
                "properties": {
                  "label": "HAS_MENU"
                },
                "start": 9,
                "styles": {},
                "thickness_factor": 1
              },
              {
                "color": "#673AB7",
                "directed": true,
                "end": 13,
                "id": 1161929803373215700,
                "label": "HAS_MENU",
                "properties": {
                  "label": "HAS_MENU"
                },
                "start": 9,
                "styles": {},
                "thickness_factor": 1
              },
              {
                "color": "#673AB7",
                "directed": true,
                "end": 14,
                "id": 1164181603186901000,
                "label": "HAS_MENU",
                "properties": {
                  "label": "HAS_MENU"
                },
                "start": 9,
                "styles": {},
                "thickness_factor": 1
              },
              {
                "color": "#673AB7",
                "directed": true,
                "end": 27,
                "id": 1152922604118474800,
                "label": "HAS_MENU",
                "properties": {
                  "label": "HAS_MENU"
                },
                "start": 9,
                "styles": {},
                "thickness_factor": 1
              },
              {
                "color": "#CDDC39",
                "directed": true,
                "end": 7,
                "id": 1152923703630102500,
                "label": "HAS_LOCATION",
                "properties": {
                  "label": "HAS_LOCATION"
                },
                "start": 13,
                "styles": {},
                "thickness_factor": 1
              },
              {
                "color": "#CDDC39",
                "directed": true,
                "end": 8,
                "id": 1155175503443787800,
                "label": "HAS_LOCATION",
                "properties": {
                  "label": "HAS_LOCATION"
                },
                "start": 13,
                "styles": {},
                "thickness_factor": 1
              },
              {
                "color": "#9E9E9E",
                "directed": true,
                "end": 29,
                "id": 1152924803141730300,
                "label": "INCLUDES",
                "properties": {
                  "label": "INCLUDES"
                },
                "start": 16,
                "styles": {},
                "thickness_factor": 1
              },
              {
                "color": "#9E9E9E",
                "directed": true,
                "end": 30,
                "id": 1155176602955415600,
                "label": "INCLUDES",
                "properties": {
                  "label": "INCLUDES"
                },
                "start": 16,
                "styles": {},
                "thickness_factor": 1
              },
              {
                "color": "#9E9E9E",
                "directed": true,
                "end": 31,
                "id": 1157428402769100800,
                "label": "INCLUDES",
                "properties": {
                  "label": "INCLUDES"
                },
                "start": 16,
                "styles": {},
                "thickness_factor": 1
              },
              {
                "color": "#9E9E9E",
                "directed": true,
                "end": 32,
                "id": 1159680202582786000,
                "label": "INCLUDES",
                "properties": {
                  "label": "INCLUDES"
                },
                "start": 16,
                "styles": {},
                "thickness_factor": 1
              },
              {
                "color": "#9E9E9E",
                "directed": true,
                "end": 33,
                "id": 1161932002396471300,
                "label": "INCLUDES",
                "properties": {
                  "label": "INCLUDES"
                },
                "start": 16,
                "styles": {},
                "thickness_factor": 1
              },
              {
                "color": "#9E9E9E",
                "directed": true,
                "end": 34,
                "id": 1164183802210156500,
                "label": "INCLUDES",
                "properties": {
                  "label": "INCLUDES"
                },
                "start": 16,
                "styles": {},
                "thickness_factor": 1
              },
              {
                "color": "#9E9E9E",
                "directed": true,
                "end": 35,
                "id": 1166435602023841800,
                "label": "INCLUDES",
                "properties": {
                  "label": "INCLUDES"
                },
                "start": 16,
                "styles": {},
                "thickness_factor": 1
              },
              {
                "color": "#9E9E9E",
                "directed": true,
                "end": 36,
                "id": 1168687401837527000,
                "label": "INCLUDES",
                "properties": {
                  "label": "INCLUDES"
                },
                "start": 16,
                "styles": {},
                "thickness_factor": 1
              },
              {
                "color": "#9E9E9E",
                "directed": true,
                "end": 37,
                "id": 1170939201651212300,
                "label": "INCLUDES",
                "properties": {
                  "label": "INCLUDES"
                },
                "start": 16,
                "styles": {},
                "thickness_factor": 1
              },
              {
                "color": "#9C27B0",
                "directed": true,
                "end": 171,
                "id": 6924293223175160000,
                "label": "PRICE",
                "properties": {
                  "label": "PRICE"
                },
                "start": 30,
                "styles": {},
                "thickness_factor": 1
              },
              {
                "color": "#9C27B0",
                "directed": true,
                "end": 171,
                "id": 6917537823734104000,
                "label": "PRICE",
                "properties": {
                  "label": "PRICE"
                },
                "start": 31,
                "styles": {},
                "thickness_factor": 1
              },
              {
                "color": "#9C27B0",
                "directed": true,
                "end": 171,
                "id": 6919789623547789000,
                "label": "PRICE",
                "properties": {
                  "label": "PRICE"
                },
                "start": 32,
                "styles": {},
                "thickness_factor": 1
              },
              {
                "color": "#9C27B0",
                "directed": true,
                "end": 171,
                "id": 6931048622616216000,
                "label": "PRICE",
                "properties": {
                  "label": "PRICE"
                },
                "start": 34,
                "styles": {},
                "thickness_factor": 1
              },
              {
                "color": "#2196F3",
                "directed": true,
                "end": 46,
                "id": 1152925902653358000,
                "label": "CONTAINS",
                "properties": {
                  "label": "CONTAINS"
                },
                "start": 37,
                "styles": {},
                "thickness_factor": 1
              },
              {
                "color": "#2196F3",
                "directed": true,
                "end": 47,
                "id": 1155177702467043300,
                "label": "CONTAINS",
                "properties": {
                  "label": "CONTAINS"
                },
                "start": 37,
                "styles": {},
                "thickness_factor": 1
              },
              {
                "color": "#2196F3",
                "directed": true,
                "end": 48,
                "id": 1157429502280728600,
                "label": "CONTAINS",
                "properties": {
                  "label": "CONTAINS"
                },
                "start": 37,
                "styles": {},
                "thickness_factor": 1
              },
              {
                "color": "#2196F3",
                "directed": true,
                "end": 49,
                "id": 1159681302094413800,
                "label": "CONTAINS",
                "properties": {
                  "label": "CONTAINS"
                },
                "start": 37,
                "styles": {},
                "thickness_factor": 1
              },
              {
                "color": "#2196F3",
                "directed": true,
                "end": 77,
                "id": 1152925902653358000,
                "label": "CONTAINS",
                "properties": {
                  "label": "CONTAINS"
                },
                "start": 76,
                "styles": {},
                "thickness_factor": 1
              },
              {
                "color": "#2196F3",
                "directed": true,
                "end": 78,
                "id": 1157429502280728600,
                "label": "CONTAINS",
                "properties": {
                  "label": "CONTAINS"
                },
                "start": 76,
                "styles": {},
                "thickness_factor": 1
              },
              {
                "color": "#2196F3",
                "directed": true,
                "end": 97,
                "id": 1155177702467043300,
                "label": "CONTAINS",
                "properties": {
                  "label": "CONTAINS"
                },
                "start": 76,
                "styles": {},
                "thickness_factor": 1
              },
              {
                "color": "#2196F3",
                "directed": true,
                "end": 72,
                "id": 1155177702467043300,
                "label": "CONTAINS",
                "properties": {
                  "label": "CONTAINS"
                },
                "start": 79,
                "styles": {},
                "thickness_factor": 1
              },
              {
                "color": "#2196F3",
                "directed": true,
                "end": 76,
                "id": 6924288825128649000,
                "label": "CONTAINS",
                "properties": {
                  "label": "CONTAINS"
                },
                "start": 79,
                "styles": {},
                "thickness_factor": 1
              },
              {
                "color": "#2196F3",
                "directed": true,
                "end": 80,
                "id": 1152925902653358000,
                "label": "CONTAINS",
                "properties": {
                  "label": "CONTAINS"
                },
                "start": 79,
                "styles": {},
                "thickness_factor": 1
              },
              {
                "color": "#4CAF50",
                "directed": true,
                "end": 53,
                "id": 1152927002164985900,
                "label": "SERVED_WITH",
                "properties": {
                  "label": "SERVED_WITH"
                },
                "start": 81,
                "styles": {},
                "thickness_factor": 1
              },
              {
                "color": "#4CAF50",
                "directed": true,
                "end": 54,
                "id": 1155178801978671000,
                "label": "SERVED_WITH",
                "properties": {
                  "label": "SERVED_WITH"
                },
                "start": 81,
                "styles": {},
                "thickness_factor": 1
              },
              {
                "color": "#2196F3",
                "directed": true,
                "end": 47,
                "id": 1155177702467043300,
                "label": "CONTAINS",
                "properties": {
                  "label": "CONTAINS"
                },
                "start": 83,
                "styles": {},
                "thickness_factor": 1
              },
              {
                "color": "#2196F3",
                "directed": true,
                "end": 50,
                "id": 1161933101908099000,
                "label": "CONTAINS",
                "properties": {
                  "label": "CONTAINS"
                },
                "start": 83,
                "styles": {},
                "thickness_factor": 1
              },
              {
                "color": "#2196F3",
                "directed": true,
                "end": 115,
                "id": 1159681302094413800,
                "label": "CONTAINS",
                "properties": {
                  "label": "CONTAINS"
                },
                "start": 83,
                "styles": {},
                "thickness_factor": 1
              },
              {
                "color": "#2196F3",
                "directed": true,
                "end": 130,
                "id": 1152925902653358000,
                "label": "CONTAINS",
                "properties": {
                  "label": "CONTAINS"
                },
                "start": 83,
                "styles": {},
                "thickness_factor": 1
              },
              {
                "color": "#2196F3",
                "directed": true,
                "end": 140,
                "id": 6917533425687593000,
                "label": "CONTAINS",
                "properties": {
                  "label": "CONTAINS"
                },
                "start": 83,
                "styles": {},
                "thickness_factor": 1
              },
              {
                "color": "#2196F3",
                "directed": true,
                "end": 141,
                "id": 6917533425687593000,
                "label": "CONTAINS",
                "properties": {
                  "label": "CONTAINS"
                },
                "start": 83,
                "styles": {},
                "thickness_factor": 1
              },
              {
                "color": "#2196F3",
                "directed": true,
                "end": 142,
                "id": 6917533425687593000,
                "label": "CONTAINS",
                "properties": {
                  "label": "CONTAINS"
                },
                "start": 83,
                "styles": {},
                "thickness_factor": 1
              },
              {
                "color": "#2196F3",
                "directed": true,
                "end": 143,
                "id": 6917533425687593000,
                "label": "CONTAINS",
                "properties": {
                  "label": "CONTAINS"
                },
                "start": 83,
                "styles": {},
                "thickness_factor": 1
              },
              {
                "color": "#2196F3",
                "directed": true,
                "end": 144,
                "id": 1157429502280728600,
                "label": "CONTAINS",
                "properties": {
                  "label": "CONTAINS"
                },
                "start": 83,
                "styles": {},
                "thickness_factor": 1
              },
              {
                "color": "#4CAF50",
                "directed": true,
                "end": 54,
                "id": 1155178801978671000,
                "label": "SERVED_WITH",
                "properties": {
                  "label": "SERVED_WITH"
                },
                "start": 83,
                "styles": {},
                "thickness_factor": 1
              },
              {
                "color": "#4CAF50",
                "directed": true,
                "end": 105,
                "id": 1152927002164985900,
                "label": "SERVED_WITH",
                "properties": {
                  "label": "SERVED_WITH"
                },
                "start": 83,
                "styles": {},
                "thickness_factor": 1
              },
              {
                "color": "#4CAF50",
                "directed": true,
                "end": 53,
                "id": 1152927002164985900,
                "label": "SERVED_WITH",
                "properties": {
                  "label": "SERVED_WITH"
                },
                "start": 84,
                "styles": {},
                "thickness_factor": 1
              },
              {
                "color": "#4CAF50",
                "directed": true,
                "end": 106,
                "id": 1155178801978671000,
                "label": "SERVED_WITH",
                "properties": {
                  "label": "SERVED_WITH"
                },
                "start": 84,
                "styles": {},
                "thickness_factor": 1
              },
              {
                "color": "#2196F3",
                "directed": true,
                "end": 31,
                "id": 1152925902653358000,
                "label": "CONTAINS",
                "properties": {
                  "label": "CONTAINS"
                },
                "start": 85,
                "styles": {},
                "thickness_factor": 1
              }
            ],
            "_graph_layout": {},
            "_highlight": [],
            "_license": {},
            "_model_module": "yfiles-jupyter-graphs",
            "_model_module_version": "^1.10.5",
            "_model_name": "GraphModel",
            "_neighborhood": {},
            "_nodes": [
              {
                "color": "#2196F3",
                "id": 5,
                "label": "Barrio",
                "position": [
                  0,
                  0
                ],
                "properties": {
                  "id": "Barrio",
                  "label": "Restaurant:__Entity__"
                },
                "scale_factor": 1,
                "size": [
                  55,
                  55
                ],
                "styles": {},
                "type": "#2196F3"
              },
              {
                "color": "#4CAF50",
                "id": 6,
                "label": "Brookside",
                "position": [
                  0,
                  0
                ],
                "properties": {
                  "id": "Brookside",
                  "label": "Menu:__Entity__:Concept"
                },
                "scale_factor": 1,
                "size": [
                  55,
                  55
                ],
                "styles": {},
                "type": "#4CAF50"
              },
              {
                "color": "#F44336",
                "id": 7,
                "label": "Briarcliff",
                "position": [
                  0,
                  0
                ],
                "properties": {
                  "id": "Briarcliff",
                  "label": "Concept:Menu:__Entity__:Location"
                },
                "scale_factor": 1,
                "size": [
                  55,
                  55
                ],
                "styles": {},
                "type": "#F44336"
              },
              {
                "color": "#F44336",
                "id": 8,
                "label": "Red Bridge",
                "position": [
                  0,
                  0
                ],
                "properties": {
                  "id": "Red Bridge",
                  "label": "Concept:Menu:__Entity__:Location"
                },
                "scale_factor": 1,
                "size": [
                  55,
                  55
                ],
                "styles": {},
                "type": "#F44336"
              },
              {
                "color": "#607D8B",
                "id": 9,
                "label": "Taqueria",
                "position": [
                  0,
                  0
                ],
                "properties": {
                  "id": "Taqueria",
                  "label": "Menu:Restaurant:__Entity__:Location:Concept"
                },
                "scale_factor": 1,
                "size": [
                  55,
                  55
                ],
                "styles": {},
                "type": "#607D8B"
              },
              {
                "color": "#673AB7",
                "id": 11,
                "label": "Drinks",
                "position": [
                  0,
                  0
                ],
                "properties": {
                  "id": "Drinks",
                  "label": "Category:Menu:__Entity__"
                },
                "scale_factor": 1,
                "size": [
                  55,
                  55
                ],
                "styles": {},
                "type": "#673AB7"
              },
              {
                "color": "#673AB7",
                "id": 12,
                "label": "Specials",
                "position": [
                  0,
                  0
                ],
                "properties": {
                  "id": "Specials",
                  "label": "Category:Menu:__Entity__"
                },
                "scale_factor": 1,
                "size": [
                  55,
                  55
                ],
                "styles": {},
                "type": "#673AB7"
              },
              {
                "color": "#673AB7",
                "id": 13,
                "label": "Locations",
                "position": [
                  0,
                  0
                ],
                "properties": {
                  "id": "Locations",
                  "label": "Category:Menu:__Entity__"
                },
                "scale_factor": 1,
                "size": [
                  55,
                  55
                ],
                "styles": {},
                "type": "#673AB7"
              },
              {
                "color": "#673AB7",
                "id": 14,
                "label": "Reserve",
                "position": [
                  0,
                  0
                ],
                "properties": {
                  "id": "Reserve",
                  "label": "Category:Menu:__Entity__"
                },
                "scale_factor": 1,
                "size": [
                  55,
                  55
                ],
                "styles": {},
                "type": "#673AB7"
              },
              {
                "color": "#CDDC39",
                "id": 27,
                "label": "Menu",
                "position": [
                  0,
                  0
                ],
                "properties": {
                  "id": "Menu",
                  "label": "Menu:__Entity__"
                },
                "scale_factor": 1,
                "size": [
                  55,
                  55
                ],
                "styles": {},
                "type": "#CDDC39"
              },
              {
                "color": "#9E9E9E",
                "id": 16,
                "label": "Catering",
                "position": [
                  0,
                  0
                ],
                "properties": {
                  "id": "Catering",
                  "label": "__Entity__:Service"
                },
                "scale_factor": 1,
                "size": [
                  55,
                  55
                ],
                "styles": {},
                "type": "#9E9E9E"
              },
              {
                "color": "#9C27B0",
                "id": 29,
                "label": "Chips & Salsa",
                "position": [
                  0,
                  0
                ],
                "properties": {
                  "id": "Chips & Salsa",
                  "label": "Food:__Entity__"
                },
                "scale_factor": 1,
                "size": [
                  55,
                  55
                ],
                "styles": {},
                "type": "#9C27B0"
              },
              {
                "color": "#9C27B0",
                "id": 30,
                "label": "Loaded Queso",
                "position": [
                  0,
                  0
                ],
                "properties": {
                  "id": "Loaded Queso",
                  "label": "Food:__Entity__"
                },
                "scale_factor": 1,
                "size": [
                  55,
                  55
                ],
                "styles": {},
                "type": "#9C27B0"
              },
              {
                "color": "#2196F3",
                "id": 31,
                "label": "Queso",
                "position": [
                  0,
                  0
                ],
                "properties": {
                  "id": "Queso",
                  "label": "Ingredient:Food item:Food:__Entity__"
                },
                "scale_factor": 1,
                "size": [
                  55,
                  55
                ],
                "styles": {},
                "type": "#2196F3"
              },
              {
                "color": "#4CAF50",
                "id": 32,
                "label": "Guacamole",
                "position": [
                  0,
                  0
                ],
                "properties": {
                  "id": "Guacamole",
                  "label": "Ingredient:Food:__Entity__"
                },
                "scale_factor": 1,
                "size": [
                  55,
                  55
                ],
                "styles": {},
                "type": "#4CAF50"
              },
              {
                "color": "#9C27B0",
                "id": 33,
                "label": "Bbq Burnt End Quesadilla",
                "position": [
                  0,
                  0
                ],
                "properties": {
                  "id": "Bbq Burnt End Quesadilla",
                  "label": "Food:__Entity__"
                },
                "scale_factor": 1,
                "size": [
                  55,
                  55
                ],
                "styles": {},
                "type": "#9C27B0"
              },
              {
                "color": "#9C27B0",
                "id": 34,
                "label": "Seafood Quesadilla",
                "position": [
                  0,
                  0
                ],
                "properties": {
                  "id": "Seafood Quesadilla",
                  "label": "Food:__Entity__"
                },
                "scale_factor": 1,
                "size": [
                  55,
                  55
                ],
                "styles": {},
                "type": "#9C27B0"
              },
              {
                "color": "#9C27B0",
                "id": 35,
                "label": "Mexican Lettuce Wraps",
                "position": [
                  0,
                  0
                ],
                "properties": {
                  "id": "Mexican Lettuce Wraps",
                  "label": "Food:__Entity__"
                },
                "scale_factor": 1,
                "size": [
                  55,
                  55
                ],
                "styles": {},
                "type": "#9C27B0"
              },
              {
                "color": "#9C27B0",
                "id": 36,
                "label": "Ceviche*",
                "position": [
                  0,
                  0
                ],
                "properties": {
                  "id": "Ceviche*",
                  "label": "Food:__Entity__"
                },
                "scale_factor": 1,
                "size": [
                  55,
                  55
                ],
                "styles": {},
                "type": "#9C27B0"
              },
              {
                "color": "#9C27B0",
                "id": 37,
                "label": "Mini - Chimis",
                "position": [
                  0,
                  0
                ],
                "properties": {
                  "id": "Mini - Chimis",
                  "label": "Food:__Entity__"
                },
                "scale_factor": 1,
                "size": [
                  55,
                  55
                ],
                "styles": {},
                "type": "#9C27B0"
              },
              {
                "color": "#F44336",
                "id": 171,
                "label": "Price",
                "position": [
                  0,
                  0
                ],
                "properties": {
                  "id": "Price",
                  "label": "__Entity__"
                },
                "scale_factor": 1,
                "size": [
                  55,
                  55
                ],
                "styles": {},
                "type": "#F44336"
              },
              {
                "color": "#607D8B",
                "id": 46,
                "label": "Marinated Chicken",
                "position": [
                  0,
                  0
                ],
                "properties": {
                  "id": "Marinated Chicken",
                  "label": "Ingredient:Protein:Food:__Entity__"
                },
                "scale_factor": 1,
                "size": [
                  55,
                  55
                ],
                "styles": {},
                "type": "#607D8B"
              },
              {
                "color": "#4CAF50",
                "id": 47,
                "label": "Jack Cheese",
                "position": [
                  0,
                  0
                ],
                "properties": {
                  "id": "Jack Cheese",
                  "label": "Ingredient:Food:__Entity__"
                },
                "scale_factor": 1,
                "size": [
                  55,
                  55
                ],
                "styles": {},
                "type": "#4CAF50"
              },
              {
                "color": "#673AB7",
                "id": 48,
                "label": "Pickled Jalapeños",
                "position": [
                  0,
                  0
                ],
                "properties": {
                  "id": "Pickled Jalapeños",
                  "label": "Ingredient:__Entity__"
                },
                "scale_factor": 1,
                "size": [
                  55,
                  55
                ],
                "styles": {},
                "type": "#673AB7"
              },
              {
                "color": "#CDDC39",
                "id": 49,
                "label": "Black Bean Corn Relish",
                "position": [
                  0,
                  0
                ],
                "properties": {
                  "id": "Black Bean Corn Relish",
                  "label": "Ingredient:Food item:__Entity__"
                },
                "scale_factor": 1,
                "size": [
                  55,
                  55
                ],
                "styles": {},
                "type": "#CDDC39"
              },
              {
                "color": "#9E9E9E",
                "id": 76,
                "label": "Pork Carnitas",
                "position": [
                  0,
                  0
                ],
                "properties": {
                  "id": "Pork Carnitas",
                  "label": "Ingredient:Dish:__Entity__"
                },
                "scale_factor": 1,
                "size": [
                  55,
                  55
                ],
                "styles": {},
                "type": "#9E9E9E"
              },
              {
                "color": "#673AB7",
                "id": 77,
                "label": "Braised Pork",
                "position": [
                  0,
                  0
                ],
                "properties": {
                  "id": "Braised Pork",
                  "label": "Ingredient:__Entity__"
                },
                "scale_factor": 1,
                "size": [
                  55,
                  55
                ],
                "styles": {},
                "type": "#673AB7"
              },
              {
                "color": "#673AB7",
                "id": 78,
                "label": "Pineapple",
                "position": [
                  0,
                  0
                ],
                "properties": {
                  "id": "Pineapple",
                  "label": "Ingredient:__Entity__"
                },
                "scale_factor": 1,
                "size": [
                  55,
                  55
                ],
                "styles": {},
                "type": "#673AB7"
              },
              {
                "color": "#9C27B0",
                "id": 97,
                "label": "Pickled Onion",
                "position": [
                  0,
                  0
                ],
                "properties": {
                  "id": "Pickled Onion",
                  "label": "Food:__Entity__"
                },
                "scale_factor": 1,
                "size": [
                  55,
                  55
                ],
                "styles": {},
                "type": "#9C27B0"
              },
              {
                "color": "#9C27B0",
                "id": 79,
                "label": "Taco Sampler",
                "position": [
                  0,
                  0
                ],
                "properties": {
                  "id": "Taco Sampler",
                  "label": "Dish:__Entity__"
                },
                "scale_factor": 1,
                "size": [
                  55,
                  55
                ],
                "styles": {},
                "type": "#9C27B0"
              },
              {
                "color": "#9E9E9E",
                "id": 72,
                "label": "Carne Asada",
                "position": [
                  0,
                  0
                ],
                "properties": {
                  "id": "Carne Asada",
                  "label": "Ingredient:Dish:__Entity__"
                },
                "scale_factor": 1,
                "size": [
                  55,
                  55
                ],
                "styles": {},
                "type": "#9E9E9E"
              },
              {
                "color": "#9C27B0",
                "id": 80,
                "label": "Ensanada Fish",
                "position": [
                  0,
                  0
                ],
                "properties": {
                  "id": "Ensanada Fish",
                  "label": "Dish:__Entity__"
                },
                "scale_factor": 1,
                "size": [
                  55,
                  55
                ],
                "styles": {},
                "type": "#9C27B0"
              },
              {
                "color": "#9C27B0",
                "id": 81,
                "label": "Enchiladas Y Burritos",
                "position": [
                  0,
                  0
                ],
                "properties": {
                  "id": "Enchiladas Y Burritos",
                  "label": "Dish:__Entity__"
                },
                "scale_factor": 1,
                "size": [
                  55,
                  55
                ],
                "styles": {},
                "type": "#9C27B0"
              },
              {
                "color": "#4CAF50",
                "id": 53,
                "label": "Mexican Rice",
                "position": [
                  0,
                  0
                ],
                "properties": {
                  "id": "Mexican Rice",
                  "label": "Ingredient:Food:__Entity__"
                },
                "scale_factor": 1,
                "size": [
                  55,
                  55
                ],
                "styles": {},
                "type": "#4CAF50"
              },
              {
                "color": "#4CAF50",
                "id": 54,
                "label": "Ranchero Beans",
                "position": [
                  0,
                  0
                ],
                "properties": {
                  "id": "Ranchero Beans",
                  "label": "Ingredient:Food:__Entity__"
                },
                "scale_factor": 1,
                "size": [
                  55,
                  55
                ],
                "styles": {},
                "type": "#4CAF50"
              },
              {
                "color": "#2196F3",
                "id": 83,
                "label": "Chimichanga",
                "position": [
                  0,
                  0
                ],
                "properties": {
                  "id": "Chimichanga",
                  "label": "Dish:Food:__Entity__"
                },
                "scale_factor": 1,
                "size": [
                  55,
                  55
                ],
                "styles": {},
                "type": "#2196F3"
              },
              {
                "color": "#4CAF50",
                "id": 50,
                "label": "Sour Cream",
                "position": [
                  0,
                  0
                ],
                "properties": {
                  "id": "Sour Cream",
                  "label": "Ingredient:Food:__Entity__"
                },
                "scale_factor": 1,
                "size": [
                  55,
                  55
                ],
                "styles": {},
                "type": "#4CAF50"
              },
              {
                "color": "#4CAF50",
                "id": 115,
                "label": "Garlic Cream Sauce",
                "position": [
                  0,
                  0
                ],
                "properties": {
                  "id": "Garlic Cream Sauce",
                  "label": "Sauce:Food:__Entity__"
                },
                "scale_factor": 1,
                "size": [
                  55,
                  55
                ],
                "styles": {},
                "type": "#4CAF50"
              },
              {
                "color": "#9C27B0",
                "id": 130,
                "label": "Onions",
                "position": [
                  0,
                  0
                ],
                "properties": {
                  "id": "Onions",
                  "label": "Food:__Entity__"
                },
                "scale_factor": 1,
                "size": [
                  55,
                  55
                ],
                "styles": {},
                "type": "#9C27B0"
              },
              {
                "color": "#F44336",
                "id": 140,
                "label": "Chicken",
                "position": [
                  0,
                  0
                ],
                "properties": {
                  "id": "Chicken",
                  "label": "Protein:Food:__Entity__"
                },
                "scale_factor": 1,
                "size": [
                  55,
                  55
                ],
                "styles": {},
                "type": "#F44336"
              },
              {
                "color": "#607D8B",
                "id": 141,
                "label": "Pork",
                "position": [
                  0,
                  0
                ],
                "properties": {
                  "id": "Pork",
                  "label": "Protein:__Entity__"
                },
                "scale_factor": 1,
                "size": [
                  55,
                  55
                ],
                "styles": {},
                "type": "#607D8B"
              },
              {
                "color": "#607D8B",
                "id": 142,
                "label": "Ground Beef",
                "position": [
                  0,
                  0
                ],
                "properties": {
                  "id": "Ground Beef",
                  "label": "Protein:__Entity__"
                },
                "scale_factor": 1,
                "size": [
                  55,
                  55
                ],
                "styles": {},
                "type": "#607D8B"
              },
              {
                "color": "#F44336",
                "id": 143,
                "label": "Roasted Poblanos",
                "position": [
                  0,
                  0
                ],
                "properties": {
                  "id": "Roasted Poblanos",
                  "label": "__Entity__"
                },
                "scale_factor": 1,
                "size": [
                  55,
                  55
                ],
                "styles": {},
                "type": "#F44336"
              },
              {
                "color": "#F44336",
                "id": 144,
                "label": "Large Flour Tortilla",
                "position": [
                  0,
                  0
                ],
                "properties": {
                  "id": "Large Flour Tortilla",
                  "label": "__Entity__"
                },
                "scale_factor": 1,
                "size": [
                  55,
                  55
                ],
                "styles": {},
                "type": "#F44336"
              },
              {
                "color": "#9C27B0",
                "id": 105,
                "label": "Rice",
                "position": [
                  0,
                  0
                ],
                "properties": {
                  "id": "Rice",
                  "label": "Food:__Entity__"
                },
                "scale_factor": 1,
                "size": [
                  55,
                  55
                ],
                "styles": {},
                "type": "#9C27B0"
              },
              {
                "color": "#2196F3",
                "id": 84,
                "label": "Enchiladas",
                "position": [
                  0,
                  0
                ],
                "properties": {
                  "id": "Enchiladas",
                  "label": "Dish:Food:__Entity__"
                },
                "scale_factor": 1,
                "size": [
                  55,
                  55
                ],
                "styles": {},
                "type": "#2196F3"
              },
              {
                "color": "#9C27B0",
                "id": 106,
                "label": "Elote",
                "position": [
                  0,
                  0
                ],
                "properties": {
                  "id": "Elote",
                  "label": "Food:__Entity__"
                },
                "scale_factor": 1,
                "size": [
                  55,
                  55
                ],
                "styles": {},
                "type": "#9C27B0"
              },
              {
                "color": "#F44336",
                "id": 85,
                "label": "Nachos",
                "position": [
                  0,
                  0
                ],
                "properties": {
                  "id": "Nachos",
                  "label": "__Entity__"
                },
                "scale_factor": 1,
                "size": [
                  55,
                  55
                ],
                "styles": {},
                "type": "#F44336"
              }
            ],
            "_overview": {
              "enabled": null,
              "overview_set": false
            },
            "_selected_graph": [
              [],
              []
            ],
            "_sidebar": {
              "enabled": false,
              "start_with": null
            },
            "_view_count": null,
            "_view_module": "yfiles-jupyter-graphs",
            "_view_module_version": "^1.10.5",
            "_view_name": "GraphView",
            "layout": "IPY_MODEL_d7ccdf7dcfeb4f75bed42701785a3c2b"
          }
        },
        "d7ccdf7dcfeb4f75bed42701785a3c2b": {
          "model_module": "@jupyter-widgets/base",
          "model_module_version": "1.2.0",
          "model_name": "LayoutModel",
          "state": {
            "_model_module": "@jupyter-widgets/base",
            "_model_module_version": "1.2.0",
            "_model_name": "LayoutModel",
            "_view_count": null,
            "_view_module": "@jupyter-widgets/base",
            "_view_module_version": "1.2.0",
            "_view_name": "LayoutView",
            "align_content": null,
            "align_items": null,
            "align_self": null,
            "border": null,
            "bottom": null,
            "display": null,
            "flex": null,
            "flex_flow": null,
            "grid_area": null,
            "grid_auto_columns": null,
            "grid_auto_flow": null,
            "grid_auto_rows": null,
            "grid_column": null,
            "grid_gap": null,
            "grid_row": null,
            "grid_template_areas": null,
            "grid_template_columns": null,
            "grid_template_rows": null,
            "height": "800px",
            "justify_content": null,
            "justify_items": null,
            "left": null,
            "margin": null,
            "max_height": null,
            "max_width": null,
            "min_height": null,
            "min_width": null,
            "object_fit": null,
            "object_position": null,
            "order": null,
            "overflow": null,
            "overflow_x": null,
            "overflow_y": null,
            "padding": null,
            "right": null,
            "top": null,
            "visibility": null,
            "width": "100%"
          }
        }
      }
    }
  },
  "nbformat": 4,
  "nbformat_minor": 0
}
